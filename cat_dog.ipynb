{
  "nbformat": 4,
  "nbformat_minor": 0,
  "metadata": {
    "colab": {
      "name": "cat_dog.ipynb",
      "provenance": [],
      "collapsed_sections": [],
      "mount_file_id": "1E9EWWj3x2rjEXey_NYKXXKPB6BVSnuHN",
      "authorship_tag": "ABX9TyOFwLQ5hlwzMk8MTktcnwcu",
      "include_colab_link": true
    },
    "kernelspec": {
      "name": "python3",
      "display_name": "Python 3"
    },
    "accelerator": "GPU"
  },
  "cells": [
    {
      "cell_type": "markdown",
      "metadata": {
        "id": "view-in-github",
        "colab_type": "text"
      },
      "source": [
        "<a href=\"https://colab.research.google.com/github/dasigiraghu96/Deeplearning_Computer_Vision/blob/main/cat_dog.ipynb\" target=\"_parent\"><img src=\"https://colab.research.google.com/assets/colab-badge.svg\" alt=\"Open In Colab\"/></a>"
      ]
    },
    {
      "cell_type": "code",
      "metadata": {
        "id": "hJUjvIjLhhEm",
        "colab": {
          "base_uri": "https://localhost:8080/"
        },
        "outputId": "aa2d5bd3-763a-4969-afe7-697080a46c89"
      },
      "source": [
        "from google.colab import drive \r\n",
        "drive.mount('/content/drive')"
      ],
      "execution_count": 3,
      "outputs": [
        {
          "output_type": "stream",
          "text": [
            "Drive already mounted at /content/drive; to attempt to forcibly remount, call drive.mount(\"/content/drive\", force_remount=True).\n"
          ],
          "name": "stdout"
        }
      ]
    },
    {
      "cell_type": "code",
      "metadata": {
        "id": "1xytxwJD8iCV"
      },
      "source": [
        "import tensorflow as tf\r\n",
        "from tensorflow.keras.preprocessing.image import ImageDataGenerator,load_img,img_to_array"
      ],
      "execution_count": 3,
      "outputs": []
    },
    {
      "cell_type": "code",
      "metadata": {
        "colab": {
          "base_uri": "https://localhost:8080/"
        },
        "id": "9BgH0CE25Tq_",
        "outputId": "14cea2d5-611c-4b27-d597-32c81f259db2"
      },
      "source": [
        "train_datagen = ImageDataGenerator(rescale = 1./255,\r\n",
        "                                   shear_range = 0.2,\r\n",
        "                                   zoom_range = 0.2,\r\n",
        "                                   horizontal_flip = True)\r\n",
        "\r\n",
        "training_set = train_datagen.flow_from_directory('/content/drive/MyDrive/cats_and_dogs_filtered/cats_and_dogs_filtered/train',\r\n",
        "                                                 target_size = (64, 64),\r\n",
        "                                                 batch_size = 32,\r\n",
        "                                                 class_mode = 'binary')\r\n",
        "\r\n",
        "# Preprocessing the Test set\r\n",
        "test_datagen = ImageDataGenerator(rescale = 1./255)\r\n",
        "test_set = test_datagen.flow_from_directory('/content/drive/MyDrive/cats_and_dogs_filtered/cats_and_dogs_filtered/validation',\r\n",
        "                                            target_size = (64, 64),\r\n",
        "                                            batch_size = 32,\r\n",
        "                                            class_mode = 'binary')"
      ],
      "execution_count": 4,
      "outputs": [
        {
          "output_type": "stream",
          "text": [
            "Found 2000 images belonging to 2 classes.\n",
            "Found 1000 images belonging to 2 classes.\n"
          ],
          "name": "stdout"
        }
      ]
    },
    {
      "cell_type": "code",
      "metadata": {
        "colab": {
          "base_uri": "https://localhost:8080/"
        },
        "id": "j_PoCGXXzT3W",
        "outputId": "c0aac985-53dc-432a-c77f-c8f99330c2ba"
      },
      "source": [
        "test_all = test_datagen.flow_from_directory('/content/drive/MyDrive/cats_and_dogs_filtered/cats_and_dogs_filtered/validation',\r\n",
        "                                            target_size = (64, 64),\r\n",
        "                                            batch_size = 1000,\r\n",
        "                                            class_mode = 'binary')\r\n",
        "x_test,y_test=test_all.next()\r\n",
        "print(x_test.shape)"
      ],
      "execution_count": 14,
      "outputs": [
        {
          "output_type": "stream",
          "text": [
            "Found 1000 images belonging to 2 classes.\n",
            "(1000, 64, 64, 3)\n"
          ],
          "name": "stdout"
        }
      ]
    },
    {
      "cell_type": "code",
      "metadata": {
        "colab": {
          "base_uri": "https://localhost:8080/"
        },
        "id": "3ch8li1P1Gu1",
        "outputId": "78c9d467-ea2e-451f-c648-9afcc2be2fee"
      },
      "source": [
        "y_test[0]"
      ],
      "execution_count": 19,
      "outputs": [
        {
          "output_type": "execute_result",
          "data": {
            "text/plain": [
              "1.0"
            ]
          },
          "metadata": {
            "tags": []
          },
          "execution_count": 19
        }
      ]
    },
    {
      "cell_type": "code",
      "metadata": {
        "id": "rHGTCNm_wlJ3"
      },
      "source": [
        "from tensorflow.keras.layers import Conv2D"
      ],
      "execution_count": 6,
      "outputs": []
    },
    {
      "cell_type": "code",
      "metadata": {
        "id": "LS_abz9sx5Ug"
      },
      "source": [
        "cnn=tf.keras.models.Sequential()\r\n",
        "\r\n",
        "cnn.add(tf.keras.layers.Conv2D(filters=32,kernel_size=3,padding='same',activation='relu',\r\n",
        "                               data_format=\"channels_last\",input_shape=(64,64,3)))\r\n",
        "\r\n",
        "cnn.add(tf.keras.layers.MaxPool2D(pool_size=(2,2),strides=2))\r\n",
        "\r\n",
        "cnn.add(tf.keras.layers.Conv2D(filters=32,kernel_size=3,padding='same',activation='relu'))\r\n",
        "\r\n",
        "cnn.add(tf.keras.layers.MaxPool2D(pool_size=(2,2),strides=2))\r\n",
        "\r\n",
        "cnn.add(tf.keras.layers.Flatten())\r\n",
        "\r\n",
        "cnn.add(tf.keras.layers.Dense(128,activation='relu'))\r\n",
        "\r\n",
        "cnn.add(tf.keras.layers.Dense(84,activation='relu'))\r\n",
        "\r\n",
        "cnn.add(tf.keras.layers.Dense(1,activation='sigmoid'))"
      ],
      "execution_count": 7,
      "outputs": []
    },
    {
      "cell_type": "code",
      "metadata": {
        "colab": {
          "base_uri": "https://localhost:8080/"
        },
        "id": "0HsMdwbEyP6e",
        "outputId": "6d48e4a8-8363-48c3-b110-7848ab54d7f5"
      },
      "source": [
        "cnn.summary()"
      ],
      "execution_count": 8,
      "outputs": [
        {
          "output_type": "stream",
          "text": [
            "Model: \"sequential\"\n",
            "_________________________________________________________________\n",
            "Layer (type)                 Output Shape              Param #   \n",
            "=================================================================\n",
            "conv2d (Conv2D)              (None, 64, 64, 32)        896       \n",
            "_________________________________________________________________\n",
            "max_pooling2d (MaxPooling2D) (None, 32, 32, 32)        0         \n",
            "_________________________________________________________________\n",
            "conv2d_1 (Conv2D)            (None, 32, 32, 32)        9248      \n",
            "_________________________________________________________________\n",
            "max_pooling2d_1 (MaxPooling2 (None, 16, 16, 32)        0         \n",
            "_________________________________________________________________\n",
            "flatten (Flatten)            (None, 8192)              0         \n",
            "_________________________________________________________________\n",
            "dense (Dense)                (None, 128)               1048704   \n",
            "_________________________________________________________________\n",
            "dense_1 (Dense)              (None, 84)                10836     \n",
            "_________________________________________________________________\n",
            "dense_2 (Dense)              (None, 1)                 85        \n",
            "=================================================================\n",
            "Total params: 1,069,769\n",
            "Trainable params: 1,069,769\n",
            "Non-trainable params: 0\n",
            "_________________________________________________________________\n"
          ],
          "name": "stdout"
        }
      ]
    },
    {
      "cell_type": "code",
      "metadata": {
        "colab": {
          "base_uri": "https://localhost:8080/"
        },
        "id": "CEeW2NW41OrO",
        "outputId": "65c728ac-eff3-4dbc-e39d-05ccc42e686a"
      },
      "source": [
        "\r\n",
        "# Part 3 - Training the CNN\r\n",
        "\r\n",
        "# Compiling the CNN\r\n",
        "cnn.compile(optimizer = 'adam', loss = 'binary_crossentropy', metrics = ['accuracy'])\r\n",
        "\r\n",
        "# Training the CNN on the Training set and evaluating it on the Test set\r\n",
        "cnn.fit(x = training_set, validation_data = test_set, epochs = 10)"
      ],
      "execution_count": 9,
      "outputs": [
        {
          "output_type": "stream",
          "text": [
            "Epoch 1/10\n",
            "63/63 [==============================] - 1107s 17s/step - loss: 0.7003 - accuracy: 0.5267 - val_loss: 0.6900 - val_accuracy: 0.5100\n",
            "Epoch 2/10\n",
            "63/63 [==============================] - 12s 186ms/step - loss: 0.6933 - accuracy: 0.5133 - val_loss: 0.6965 - val_accuracy: 0.5080\n",
            "Epoch 3/10\n",
            "63/63 [==============================] - 12s 186ms/step - loss: 0.6814 - accuracy: 0.5715 - val_loss: 0.6496 - val_accuracy: 0.6030\n",
            "Epoch 4/10\n",
            "63/63 [==============================] - 12s 185ms/step - loss: 0.6351 - accuracy: 0.6617 - val_loss: 0.6421 - val_accuracy: 0.6350\n",
            "Epoch 5/10\n",
            "63/63 [==============================] - 12s 184ms/step - loss: 0.5957 - accuracy: 0.6948 - val_loss: 0.6030 - val_accuracy: 0.6700\n",
            "Epoch 6/10\n",
            "63/63 [==============================] - 11s 183ms/step - loss: 0.5914 - accuracy: 0.7108 - val_loss: 0.5883 - val_accuracy: 0.6980\n",
            "Epoch 7/10\n",
            "63/63 [==============================] - 12s 183ms/step - loss: 0.6066 - accuracy: 0.6853 - val_loss: 0.5756 - val_accuracy: 0.6920\n",
            "Epoch 8/10\n",
            "63/63 [==============================] - 11s 183ms/step - loss: 0.5301 - accuracy: 0.7473 - val_loss: 0.5632 - val_accuracy: 0.6990\n",
            "Epoch 9/10\n",
            "63/63 [==============================] - 11s 183ms/step - loss: 0.5030 - accuracy: 0.7665 - val_loss: 0.5805 - val_accuracy: 0.6990\n",
            "Epoch 10/10\n",
            "63/63 [==============================] - 12s 184ms/step - loss: 0.5165 - accuracy: 0.7451 - val_loss: 0.5601 - val_accuracy: 0.7070\n"
          ],
          "name": "stdout"
        },
        {
          "output_type": "execute_result",
          "data": {
            "text/plain": [
              "<tensorflow.python.keras.callbacks.History at 0x7f3d936f4790>"
            ]
          },
          "metadata": {
            "tags": []
          },
          "execution_count": 9
        }
      ]
    },
    {
      "cell_type": "code",
      "metadata": {
        "id": "mx_eHgPI1x6f"
      },
      "source": [
        "from tensorflow.keras.models import load_model\r\n",
        "cnn.save('/content/drive/MyDrive/cats_and_dogs_filtered/model_cat_dog.h5')\r\n"
      ],
      "execution_count": 10,
      "outputs": []
    },
    {
      "cell_type": "code",
      "metadata": {
        "id": "LPXJPo9RXH1I"
      },
      "source": [
        ""
      ],
      "execution_count": 10,
      "outputs": []
    },
    {
      "cell_type": "code",
      "metadata": {
        "colab": {
          "base_uri": "https://localhost:8080/"
        },
        "id": "rsF3xDmY30iE",
        "outputId": "c0ff5aa0-fd04-4e75-9596-37a42375061b"
      },
      "source": [
        "from tensorflow.keras.models import load_model\r\n",
        "model=load_model('/content/drive/MyDrive/cats_and_dogs_filtered/model_cat_dog.h5')\r\n",
        "\r\n",
        "model.summary()"
      ],
      "execution_count": 12,
      "outputs": [
        {
          "output_type": "stream",
          "text": [
            "Model: \"sequential\"\n",
            "_________________________________________________________________\n",
            "Layer (type)                 Output Shape              Param #   \n",
            "=================================================================\n",
            "conv2d (Conv2D)              (None, 64, 64, 32)        896       \n",
            "_________________________________________________________________\n",
            "max_pooling2d (MaxPooling2D) (None, 32, 32, 32)        0         \n",
            "_________________________________________________________________\n",
            "conv2d_1 (Conv2D)            (None, 32, 32, 32)        9248      \n",
            "_________________________________________________________________\n",
            "max_pooling2d_1 (MaxPooling2 (None, 16, 16, 32)        0         \n",
            "_________________________________________________________________\n",
            "flatten (Flatten)            (None, 8192)              0         \n",
            "_________________________________________________________________\n",
            "dense (Dense)                (None, 128)               1048704   \n",
            "_________________________________________________________________\n",
            "dense_1 (Dense)              (None, 84)                10836     \n",
            "_________________________________________________________________\n",
            "dense_2 (Dense)              (None, 1)                 85        \n",
            "=================================================================\n",
            "Total params: 1,069,769\n",
            "Trainable params: 1,069,769\n",
            "Non-trainable params: 0\n",
            "_________________________________________________________________\n"
          ],
          "name": "stdout"
        }
      ]
    },
    {
      "cell_type": "code",
      "metadata": {
        "id": "JChWgUvPL22S"
      },
      "source": [
        ""
      ],
      "execution_count": null,
      "outputs": []
    },
    {
      "cell_type": "code",
      "metadata": {
        "colab": {
          "base_uri": "https://localhost:8080/"
        },
        "id": "z80dH_M_38tl",
        "outputId": "390f3a38-d53d-4f39-a9ba-b132cac8fa6f"
      },
      "source": [
        "import numpy as np\r\n",
        "from tensorflow.keras.preprocessing.image import ImageDataGenerator,load_img,img_to_array\r\n",
        "test_image=load_img('/content/drive/MyDrive/cats_and_dogs_filtered/cats_and_dogs_filtered/validation/cats/cat.2000.jpg',target_size=(64,64))\r\n",
        "test_image=img_to_array(test_image)\r\n",
        "test_image=test_image/255\r\n",
        "test_image=np.expand_dims(test_image,axis=0)\r\n",
        "result=model.predict(test_image)\r\n",
        "\r\n",
        "\r\n",
        "if result[0]<=0.5:\r\n",
        "    print(\"The image classified is cat\")\r\n",
        "else:\r\n",
        "    print(\"The image classified is dog\")\r\n",
        "\r\n",
        "print"
      ],
      "execution_count": 13,
      "outputs": [
        {
          "output_type": "stream",
          "text": [
            "The image classified is cat\n"
          ],
          "name": "stdout"
        }
      ]
    },
    {
      "cell_type": "code",
      "metadata": {
        "colab": {
          "base_uri": "https://localhost:8080/",
          "height": 81
        },
        "id": "JDpc4xhSMC3B",
        "outputId": "d8873cf0-93cf-4ea5-fcae-f03b14b28b32"
      },
      "source": [
        "test=load_img('/content/drive/MyDrive/cats_and_dogs_filtered/cats_and_dogs_filtered/validation/cats/cat.2000.jpg',target_size=(64,64))\r\n",
        "test"
      ],
      "execution_count": 14,
      "outputs": [
        {
          "output_type": "execute_result",
          "data": {
            "image/png": "[encoded data removed]",
            "text/plain": [
              "<PIL.Image.Image image mode=RGB size=64x64 at 0x7F3D928F7690>"
            ]
          },
          "metadata": {
            "tags": []
          },
          "execution_count": 14
        }
      ]
    },
    {
      "cell_type": "code",
      "metadata": {
        "id": "X6FOi8TbMDra"
      },
      "source": [
        "##Create CNN model and keras hyperturning"
      ],
      "execution_count": 14,
      "outputs": []
    },
    {
      "cell_type": "code",
      "metadata": {
        "colab": {
          "base_uri": "https://localhost:8080/"
        },
        "id": "QTeE27QHVgom",
        "outputId": "223503f0-929b-4803-ce31-d506bc8818e3"
      },
      "source": [
        "!pip install keras-tuner"
      ],
      "execution_count": 33,
      "outputs": [
        {
          "output_type": "stream",
          "text": [
            "Collecting keras-tuner\n",
            "\u001b[?25l  Downloading https://files.pythonhosted.org/packages/20/ec/1ef246787174b1e2bb591c95f29d3c1310070cad877824f907faba3dade9/keras-tuner-1.0.2.tar.gz (62kB)\n",
            "\r\u001b[K     |█████▏                          | 10kB 22.6MB/s eta 0:00:01\r\u001b[K     |██████████▍                     | 20kB 29.6MB/s eta 0:00:01\r\u001b[K     |███████████████▋                | 30kB 21.0MB/s eta 0:00:01\r\u001b[K     |████████████████████▉           | 40kB 24.7MB/s eta 0:00:01\r\u001b[K     |██████████████████████████      | 51kB 23.6MB/s eta 0:00:01\r\u001b[K     |███████████████████████████████▎| 61kB 17.1MB/s eta 0:00:01\r\u001b[K     |████████████████████████████████| 71kB 7.0MB/s \n",
            "\u001b[?25hRequirement already satisfied: packaging in /usr/local/lib/python3.7/dist-packages (from keras-tuner) (20.9)\n",
            "Requirement already satisfied: future in /usr/local/lib/python3.7/dist-packages (from keras-tuner) (0.16.0)\n",
            "Requirement already satisfied: numpy in /usr/local/lib/python3.7/dist-packages (from keras-tuner) (1.19.5)\n",
            "Requirement already satisfied: tabulate in /usr/local/lib/python3.7/dist-packages (from keras-tuner) (0.8.9)\n",
            "Collecting terminaltables\n",
            "  Downloading https://files.pythonhosted.org/packages/9b/c4/4a21174f32f8a7e1104798c445dacdc1d4df86f2f26722767034e4de4bff/terminaltables-3.1.0.tar.gz\n",
            "Collecting colorama\n",
            "  Downloading https://files.pythonhosted.org/packages/44/98/5b86278fbbf250d239ae0ecb724f8572af1c91f4a11edf4d36a206189440/colorama-0.4.4-py2.py3-none-any.whl\n",
            "Requirement already satisfied: tqdm in /usr/local/lib/python3.7/dist-packages (from keras-tuner) (4.41.1)\n",
            "Requirement already satisfied: requests in /usr/local/lib/python3.7/dist-packages (from keras-tuner) (2.23.0)\n",
            "Requirement already satisfied: scipy in /usr/local/lib/python3.7/dist-packages (from keras-tuner) (1.4.1)\n",
            "Requirement already satisfied: scikit-learn in /usr/local/lib/python3.7/dist-packages (from keras-tuner) (0.22.2.post1)\n",
            "Requirement already satisfied: pyparsing>=2.0.2 in /usr/local/lib/python3.7/dist-packages (from packaging->keras-tuner) (2.4.7)\n",
            "Requirement already satisfied: certifi>=2017.4.17 in /usr/local/lib/python3.7/dist-packages (from requests->keras-tuner) (2020.12.5)\n",
            "Requirement already satisfied: idna<3,>=2.5 in /usr/local/lib/python3.7/dist-packages (from requests->keras-tuner) (2.10)\n",
            "Requirement already satisfied: urllib3!=1.25.0,!=1.25.1,<1.26,>=1.21.1 in /usr/local/lib/python3.7/dist-packages (from requests->keras-tuner) (1.24.3)\n",
            "Requirement already satisfied: chardet<4,>=3.0.2 in /usr/local/lib/python3.7/dist-packages (from requests->keras-tuner) (3.0.4)\n",
            "Requirement already satisfied: joblib>=0.11 in /usr/local/lib/python3.7/dist-packages (from scikit-learn->keras-tuner) (1.0.1)\n",
            "Building wheels for collected packages: keras-tuner, terminaltables\n",
            "  Building wheel for keras-tuner (setup.py) ... \u001b[?25l\u001b[?25hdone\n",
            "  Created wheel for keras-tuner: filename=keras_tuner-1.0.2-cp37-none-any.whl size=78938 sha256=c721f7cf885f7747aa0855abcb28bca385f784c96c4998a95d7156b8d0dbee6c\n",
            "  Stored in directory: /root/.cache/pip/wheels/bb/a1/8a/7c3de0efb3707a1701b36ebbfdbc4e67aedf6d4943a1f463d6\n",
            "  Building wheel for terminaltables (setup.py) ... \u001b[?25l\u001b[?25hdone\n",
            "  Created wheel for terminaltables: filename=terminaltables-3.1.0-cp37-none-any.whl size=15356 sha256=599fb4c030c4b75293e4d8e2f54d2e6d4cbb33a6fc3badce49dcf539f1e024d5\n",
            "  Stored in directory: /root/.cache/pip/wheels/30/6b/50/6c75775b681fb36cdfac7f19799888ef9d8813aff9e379663e\n",
            "Successfully built keras-tuner terminaltables\n",
            "Installing collected packages: terminaltables, colorama, keras-tuner\n",
            "Successfully installed colorama-0.4.4 keras-tuner-1.0.2 terminaltables-3.1.0\n"
          ],
          "name": "stdout"
        }
      ]
    },
    {
      "cell_type": "code",
      "metadata": {
        "id": "k7IRmfayV5Kr"
      },
      "source": [
        "import tensorflow as tf\r\n",
        "from tensorflow import keras\r\n",
        "import numpy as np"
      ],
      "execution_count": 35,
      "outputs": []
    },
    {
      "cell_type": "code",
      "metadata": {
        "colab": {
          "base_uri": "https://localhost:8080/",
          "height": 35
        },
        "id": "a2q0QGn5WEkS",
        "outputId": "c5d5ce8a-9c2c-4a03-c7b7-1ff5c67c1001"
      },
      "source": [
        "tf.__version__"
      ],
      "execution_count": 36,
      "outputs": [
        {
          "output_type": "execute_result",
          "data": {
            "application/vnd.google.colaboratory.intrinsic+json": {
              "type": "string"
            },
            "text/plain": [
              "'2.4.1'"
            ]
          },
          "metadata": {
            "tags": []
          },
          "execution_count": 36
        }
      ]
    },
    {
      "cell_type": "code",
      "metadata": {
        "id": "1T28hEJ_Zflp"
      },
      "source": [
        "from tensorflow import keras\r\n",
        "from tensorflow.keras import layers\r\n",
        "def build_model(hp):\r\n",
        "  cnn=tf.keras.models.Sequential()\r\n",
        "  for i in range(hp.Int('num_layers', 2, 10)):\r\n",
        "    cnn.add(tf.keras.layers.Conv2D(filters=hp.Int('filters_conv'+str(i),min_value=32,max_value=128,step=16),\r\n",
        "                                 kernel_size=hp.Choice('kernel_conv'+str(i),values = [3,5,7]),\r\n",
        "                                 padding='same',\r\n",
        "                                 activation='relu',data_format=\"channels_last\",input_shape=(64,64,3)))\r\n",
        "\r\n",
        "  cnn.add(tf.keras.layers.MaxPool2D(pool_size=(2,2),strides=2))\r\n",
        "\r\n",
        "  cnn.add(tf.keras.layers.Flatten())\r\n",
        "\r\n",
        "  cnn.add(tf.keras.layers.Dense(128,activation='relu'))\r\n",
        "\r\n",
        "  cnn.add(tf.keras.layers.Dense(84,activation='relu'))\r\n",
        "\r\n",
        "  cnn.add(tf.keras.layers.Dense(1,activation='sigmoid'))\r\n",
        "\r\n",
        "  cnn.compile(optimizer=keras.optimizers.Adam(hp.Choice('learning_rate', values=[0.1,1e-2, 1e-3])),\r\n",
        "              loss='binary_crossentropy',\r\n",
        "              metrics=['accuracy'])\r\n",
        "  return cnn"
      ],
      "execution_count": 48,
      "outputs": []
    },
    {
      "cell_type": "code",
      "metadata": {
        "id": "j6T3pWlHWJEL"
      },
      "source": [
        "from kerastuner import RandomSearch\r\n",
        "from kerastuner.engine.hyperparameters import HyperParameters"
      ],
      "execution_count": 38,
      "outputs": []
    },
    {
      "cell_type": "code",
      "metadata": {
        "colab": {
          "base_uri": "https://localhost:8080/"
        },
        "id": "0QM52gmscQoR",
        "outputId": "4054c622-1852-40c3-f6f6-3668cccf40ea"
      },
      "source": [
        "tuner_search=RandomSearch(build_model,\r\n",
        "                          objective='val_accuracy',\r\n",
        "                          max_trials=5,directory='/content/drive/MyDrive/cats_and_dogs_filtered/output',\r\n",
        "                          project_name=\"dog_cat\")"
      ],
      "execution_count": 49,
      "outputs": [
        {
          "output_type": "stream",
          "text": [
            "INFO:tensorflow:Reloading Oracle from existing project /content/drive/MyDrive/cats_and_dogs_filtered/output/dog_cat/oracle.json\n",
            "INFO:tensorflow:Reloading Tuner from /content/drive/MyDrive/cats_and_dogs_filtered/output/dog_cat/tuner0.json\n"
          ],
          "name": "stdout"
        }
      ]
    },
    {
      "cell_type": "code",
      "metadata": {
        "colab": {
          "base_uri": "https://localhost:8080/"
        },
        "id": "7hxyqvrfdQnZ",
        "outputId": "b5f5d3bb-64d5-4708-ac9f-19ff3af89548"
      },
      "source": [
        "tuner_search.search_space_summary()"
      ],
      "execution_count": 50,
      "outputs": [
        {
          "output_type": "stream",
          "text": [
            "Search space summary\n",
            "Default search space size: 16\n",
            "num_layers (Int)\n",
            "{'default': None, 'conditions': [], 'min_value': 2, 'max_value': 10, 'step': 1, 'sampling': None}\n",
            "filters_conv0 (Int)\n",
            "{'default': None, 'conditions': [], 'min_value': 32, 'max_value': 128, 'step': 16, 'sampling': None}\n",
            "kernel_conv0 (Choice)\n",
            "{'default': 3, 'conditions': [], 'values': [3, 5, 7], 'ordered': True}\n",
            "filters_conv1 (Int)\n",
            "{'default': None, 'conditions': [], 'min_value': 32, 'max_value': 128, 'step': 16, 'sampling': None}\n",
            "kernel_conv1 (Choice)\n",
            "{'default': 3, 'conditions': [], 'values': [3, 5, 7], 'ordered': True}\n",
            "learning_rate (Choice)\n",
            "{'default': 0.1, 'conditions': [], 'values': [0.1, 0.01, 0.001], 'ordered': True}\n",
            "filters_conv2 (Int)\n",
            "{'default': None, 'conditions': [], 'min_value': 32, 'max_value': 128, 'step': 16, 'sampling': None}\n",
            "kernel_conv2 (Choice)\n",
            "{'default': 3, 'conditions': [], 'values': [3, 5, 7], 'ordered': True}\n",
            "filters_conv3 (Int)\n",
            "{'default': None, 'conditions': [], 'min_value': 32, 'max_value': 128, 'step': 16, 'sampling': None}\n",
            "kernel_conv3 (Choice)\n",
            "{'default': 3, 'conditions': [], 'values': [3, 5, 7], 'ordered': True}\n",
            "filters_conv4 (Int)\n",
            "{'default': None, 'conditions': [], 'min_value': 32, 'max_value': 128, 'step': 16, 'sampling': None}\n",
            "kernel_conv4 (Choice)\n",
            "{'default': 3, 'conditions': [], 'values': [3, 5, 7], 'ordered': True}\n",
            "filters_conv5 (Int)\n",
            "{'default': None, 'conditions': [], 'min_value': 32, 'max_value': 128, 'step': 16, 'sampling': None}\n",
            "kernel_conv5 (Choice)\n",
            "{'default': 3, 'conditions': [], 'values': [3, 5, 7], 'ordered': True}\n",
            "filters_conv6 (Int)\n",
            "{'default': None, 'conditions': [], 'min_value': 32, 'max_value': 128, 'step': 16, 'sampling': None}\n",
            "kernel_conv6 (Choice)\n",
            "{'default': 3, 'conditions': [], 'values': [3, 5, 7], 'ordered': True}\n"
          ],
          "name": "stdout"
        }
      ]
    },
    {
      "cell_type": "code",
      "metadata": {
        "colab": {
          "base_uri": "https://localhost:8080/"
        },
        "id": "kc-rKXSY0rrG",
        "outputId": "8bc00d2b-11a1-450b-dd00-770e1f7a827a"
      },
      "source": [
        "import numpy as np\r\n",
        "train_generator=train_datagen.flow_from_directory('/content/drive/MyDrive/cats_and_dogs_filtered/cats_and_dogs_filtered/train',\r\n",
        "                                                 target_size = (64, 64),\r\n",
        "                                                 batch_size = 32,\r\n",
        "                                                 class_mode = 'binary')\r\n",
        "x_train=np.concatenate([train_generator.next()[0] for i in range(train_generator.__len__())])\r\n",
        "y_train=np.concatenate([train_generator.next()[1] for i in range(train_generator.__len__())])\r\n",
        "print(x_train.shape)\r\n",
        "print(y_train.shape)"
      ],
      "execution_count": 41,
      "outputs": [
        {
          "output_type": "stream",
          "text": [
            "Found 2000 images belonging to 2 classes.\n",
            "(2000, 64, 64, 3)\n",
            "(2000,)\n"
          ],
          "name": "stdout"
        }
      ]
    },
    {
      "cell_type": "code",
      "metadata": {
        "colab": {
          "base_uri": "https://localhost:8080/"
        },
        "id": "6Hiiy0m-11o1",
        "outputId": "e8e17f89-2f91-484e-f8f1-4706a9de897a"
      },
      "source": [
        "test_generator=test_datagen.flow_from_directory('/content/drive/MyDrive/cats_and_dogs_filtered/cats_and_dogs_filtered/validation',\r\n",
        "                                            target_size = (64, 64),\r\n",
        "                                            batch_size = 32,\r\n",
        "                                            class_mode = 'binary')\r\n",
        "x_test=np.concatenate([test_generator.next()[0] for i in range(test_generator.__len__())])\r\n",
        "y_test=np.concatenate([test_generator.next()[1] for i in range(test_generator.__len__())])\r\n",
        "print(x_test.shape)\r\n",
        "print(y_test.shape)"
      ],
      "execution_count": 42,
      "outputs": [
        {
          "output_type": "stream",
          "text": [
            "Found 1000 images belonging to 2 classes.\n",
            "(1000, 64, 64, 3)\n",
            "(1000,)\n"
          ],
          "name": "stdout"
        }
      ]
    },
    {
      "cell_type": "code",
      "metadata": {
        "colab": {
          "base_uri": "https://localhost:8080/"
        },
        "id": "tIKm1XxUfcJr",
        "outputId": "d1fa9fcc-5fd1-4385-c7e2-1ef0cdd8f861"
      },
      "source": [
        "tuner_search.search(x_train,y_train,epochs=3,validation_split=0.1)"
      ],
      "execution_count": 51,
      "outputs": [
        {
          "output_type": "stream",
          "text": [
            "INFO:tensorflow:Oracle triggered exit\n"
          ],
          "name": "stdout"
        }
      ]
    },
    {
      "cell_type": "code",
      "metadata": {
        "id": "02uTzwxOfn1B"
      },
      "source": [
        "model=tuner_search.get_best_models(num_models=1)[0]"
      ],
      "execution_count": 44,
      "outputs": []
    },
    {
      "cell_type": "code",
      "metadata": {
        "colab": {
          "base_uri": "https://localhost:8080/"
        },
        "id": "anSERDFM3fst",
        "outputId": "fe35cc1f-0f03-43fa-acf2-27fcd2ea1e7d"
      },
      "source": [
        "model.summary()"
      ],
      "execution_count": 45,
      "outputs": [
        {
          "output_type": "stream",
          "text": [
            "Model: \"sequential\"\n",
            "_________________________________________________________________\n",
            "Layer (type)                 Output Shape              Param #   \n",
            "=================================================================\n",
            "conv2d (Conv2D)              (None, 64, 64, 96)        2688      \n",
            "_________________________________________________________________\n",
            "conv2d_1 (Conv2D)            (None, 64, 64, 128)       110720    \n",
            "_________________________________________________________________\n",
            "conv2d_2 (Conv2D)            (None, 64, 64, 32)        36896     \n",
            "_________________________________________________________________\n",
            "conv2d_3 (Conv2D)            (None, 64, 64, 32)        9248      \n",
            "_________________________________________________________________\n",
            "max_pooling2d (MaxPooling2D) (None, 32, 32, 32)        0         \n",
            "_________________________________________________________________\n",
            "flatten (Flatten)            (None, 32768)             0         \n",
            "_________________________________________________________________\n",
            "dense (Dense)                (None, 128)               4194432   \n",
            "_________________________________________________________________\n",
            "dense_1 (Dense)              (None, 84)                10836     \n",
            "_________________________________________________________________\n",
            "dense_2 (Dense)              (None, 1)                 85        \n",
            "=================================================================\n",
            "Total params: 4,364,905\n",
            "Trainable params: 4,364,905\n",
            "Non-trainable params: 0\n",
            "_________________________________________________________________\n"
          ],
          "name": "stdout"
        }
      ]
    },
    {
      "cell_type": "code",
      "metadata": {
        "colab": {
          "base_uri": "https://localhost:8080/"
        },
        "id": "lY0Lm8q93iDN",
        "outputId": "c42030fb-d45f-4885-9da6-6f51186b558d"
      },
      "source": [
        "model.fit(x_train,y_train,epochs=10, validation_split=0.1, initial_epoch=3)"
      ],
      "execution_count": 47,
      "outputs": [
        {
          "output_type": "stream",
          "text": [
            "Epoch 4/10\n",
            "57/57 [==============================] - 2s 30ms/step - loss: nan - accuracy: 0.4983 - val_loss: nan - val_accuracy: 0.5150\n",
            "Epoch 5/10\n",
            "57/57 [==============================] - 2s 28ms/step - loss: nan - accuracy: 0.4983 - val_loss: nan - val_accuracy: 0.5150\n",
            "Epoch 6/10\n",
            "57/57 [==============================] - 2s 28ms/step - loss: nan - accuracy: 0.4983 - val_loss: nan - val_accuracy: 0.5150\n",
            "Epoch 7/10\n",
            "57/57 [==============================] - 2s 28ms/step - loss: nan - accuracy: 0.4983 - val_loss: nan - val_accuracy: 0.5150\n",
            "Epoch 8/10\n",
            "57/57 [==============================] - 2s 28ms/step - loss: nan - accuracy: 0.4983 - val_loss: nan - val_accuracy: 0.5150\n",
            "Epoch 9/10\n",
            "57/57 [==============================] - 2s 28ms/step - loss: nan - accuracy: 0.4983 - val_loss: nan - val_accuracy: 0.5150\n",
            "Epoch 10/10\n",
            "57/57 [==============================] - 2s 28ms/step - loss: nan - accuracy: 0.4983 - val_loss: nan - val_accuracy: 0.5150\n"
          ],
          "name": "stdout"
        },
        {
          "output_type": "execute_result",
          "data": {
            "text/plain": [
              "<tensorflow.python.keras.callbacks.History at 0x7f01803e6310>"
            ]
          },
          "metadata": {
            "tags": []
          },
          "execution_count": 47
        }
      ]
    }
  ]
}