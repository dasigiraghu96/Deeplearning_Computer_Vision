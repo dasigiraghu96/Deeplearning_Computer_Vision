{
  "nbformat": 4,
  "nbformat_minor": 0,
  "metadata": {
    "colab": {
      "name": "VGG16.ipynb",
      "provenance": [],
      "collapsed_sections": [],
      "mount_file_id": "10NAZE9geYqiq-xclrWXzxwwaz6Y5apji",
      "authorship_tag": "ABX9TyP55SrVsZhK18R/ik+hO1tk",
      "include_colab_link": true
    },
    "kernelspec": {
      "name": "python3",
      "display_name": "Python 3"
    },
    "accelerator": "GPU"
  },
  "cells": [
    {
      "cell_type": "markdown",
      "metadata": {
        "id": "view-in-github",
        "colab_type": "text"
      },
      "source": [
        "<a href=\"https://colab.research.google.com/github/dasigiraghu96/Deeplearning_Computer_Vision/blob/main/VGG16.ipynb\" target=\"_parent\"><img src=\"https://colab.research.google.com/assets/colab-badge.svg\" alt=\"Open In Colab\"/></a>"
      ]
    },
    {
      "cell_type": "code",
      "metadata": {
        "id": "lls7Cv1cvGij"
      },
      "source": [
        "import tensorflow as tf"
      ],
      "execution_count": null,
      "outputs": []
    },
    {
      "cell_type": "code",
      "metadata": {
        "colab": {
          "base_uri": "https://localhost:8080/",
          "height": 35
        },
        "id": "bDiFoP6AvORW",
        "outputId": "b7304ef8-2bdb-4323-869f-31250eac7235"
      },
      "source": [
        "tf.__version__"
      ],
      "execution_count": null,
      "outputs": [
        {
          "output_type": "execute_result",
          "data": {
            "application/vnd.google.colaboratory.intrinsic+json": {
              "type": "string"
            },
            "text/plain": [
              "'2.4.1'"
            ]
          },
          "metadata": {
            "tags": []
          },
          "execution_count": 3
        }
      ]
    },
    {
      "cell_type": "code",
      "metadata": {
        "colab": {
          "base_uri": "https://localhost:8080/"
        },
        "id": "V1ggLFJovTZ9",
        "outputId": "0c4fa689-fa6d-4374-86cb-2ed11eb83005"
      },
      "source": [
        "tf.test.gpu_device_name"
      ],
      "execution_count": null,
      "outputs": [
        {
          "output_type": "execute_result",
          "data": {
            "text/plain": [
              "<function tensorflow.python.framework.test_util.gpu_device_name>"
            ]
          },
          "metadata": {
            "tags": []
          },
          "execution_count": 4
        }
      ]
    },
    {
      "cell_type": "code",
      "metadata": {
        "colab": {
          "base_uri": "https://localhost:8080/"
        },
        "id": "sJuHOMkBvdTb",
        "outputId": "ed970572-1a46-42f1-e8bb-6ef24ee13b03"
      },
      "source": [
        "!nvidia-smi"
      ],
      "execution_count": null,
      "outputs": [
        {
          "output_type": "stream",
          "text": [
            "Fri Mar 12 09:23:57 2021       \n",
            "+-----------------------------------------------------------------------------+\n",
            "| NVIDIA-SMI 460.56       Driver Version: 460.32.03    CUDA Version: 11.2     |\n",
            "|-------------------------------+----------------------+----------------------+\n",
            "| GPU  Name        Persistence-M| Bus-Id        Disp.A | Volatile Uncorr. ECC |\n",
            "| Fan  Temp  Perf  Pwr:Usage/Cap|         Memory-Usage | GPU-Util  Compute M. |\n",
            "|                               |                      |               MIG M. |\n",
            "|===============================+======================+======================|\n",
            "|   0  Tesla K80           Off  | 00000000:00:04.0 Off |                    0 |\n",
            "| N/A   35C    P8    28W / 149W |      0MiB / 11441MiB |      0%      Default |\n",
            "|                               |                      |                  N/A |\n",
            "+-------------------------------+----------------------+----------------------+\n",
            "                                                                               \n",
            "+-----------------------------------------------------------------------------+\n",
            "| Processes:                                                                  |\n",
            "|  GPU   GI   CI        PID   Type   Process name                  GPU Memory |\n",
            "|        ID   ID                                                   Usage      |\n",
            "|=============================================================================|\n",
            "|  No running processes found                                                 |\n",
            "+-----------------------------------------------------------------------------+\n"
          ],
          "name": "stdout"
        }
      ]
    },
    {
      "cell_type": "code",
      "metadata": {
        "colab": {
          "base_uri": "https://localhost:8080/"
        },
        "id": "zKuC-xaqvzSd",
        "outputId": "b29d9ba4-8a47-425b-fcdf-f15a75848b37"
      },
      "source": [
        "import tensorflow as tf \r\n",
        "\r\n",
        "if tf.test.gpu_device_name(): \r\n",
        "    \r\n",
        "\r\n",
        "    print('Default GPU Device:{}'.format(tf.test.gpu_device_name()))\r\n",
        "\r\n",
        "else:\r\n",
        "\r\n",
        "    print(\"Please install GPU version of TF\")"
      ],
      "execution_count": null,
      "outputs": [
        {
          "output_type": "stream",
          "text": [
            "Default GPU Device:/device:GPU:0\n"
          ],
          "name": "stdout"
        }
      ]
    },
    {
      "cell_type": "code",
      "metadata": {
        "id": "0El3ZWrxxCKF"
      },
      "source": [
        "from tensorflow.compat.v1 import ConfigProto\r\n",
        "from tensorflow.compat.v1 import InteractiveSession\r\n",
        "\r\n",
        "config=ConfigProto()\r\n",
        "config.gpu_options.per_process_gpu_memory_fraction=0.5\r\n",
        "config.gpu_options.allow_growth=True\r\n",
        "session=InteractiveSession(config=config)"
      ],
      "execution_count": null,
      "outputs": []
    },
    {
      "cell_type": "code",
      "metadata": {
        "id": "pLodhIkbxv70"
      },
      "source": [
        "from tensorflow.keras.layers import Input,Lambda,Dense,Flatten\r\n",
        "from tensorflow.keras.models import Model\r\n",
        "from tensorflow.keras.applications.vgg16 import VGG16\r\n",
        "from tensorflow.keras.applications.vgg16 import preprocess_input\r\n",
        "from tensorflow.keras.preprocessing.image import ImageDataGenerator,load_img,img_to_array\r\n",
        "from tensorflow.keras.models import Sequential\r\n",
        "import numpy as np\r\n",
        "from glob import glob"
      ],
      "execution_count": null,
      "outputs": []
    },
    {
      "cell_type": "code",
      "metadata": {
        "id": "11mICm-2zh4f"
      },
      "source": [
        "Image_size=[224,224]\r\n",
        "train_path='/content/drive/MyDrive/cats_and_dogs_filtered/cats_and_dogs_filtered/train'\r\n",
        "valid_path='/content/drive/MyDrive/cats_and_dogs_filtered/cats_and_dogs_filtered/validation'"
      ],
      "execution_count": null,
      "outputs": []
    },
    {
      "cell_type": "code",
      "metadata": {
        "colab": {
          "base_uri": "https://localhost:8080/"
        },
        "id": "yqLU_Voo0CS8",
        "outputId": "defbc4dc-3e22-4ccc-86b2-ddea5e84b357"
      },
      "source": [
        "#VGG16 data preprocessing\r\n",
        "#input_shape=rgb channel add [3]\r\n",
        "#take weights from imagenet competetion\r\n",
        "#include_top=False will remove flatten,fully connected layer,output layer used in imagenet competetion\r\n",
        "#here we need only 2 classes\r\n",
        "#input layer will also be skipped,by specifying input shape we are specifying our own input shape for our data\r\n",
        "vgg16=VGG16(input_shape=Image_size+[3],weights='imagenet',include_top=False)"
      ],
      "execution_count": null,
      "outputs": [
        {
          "output_type": "stream",
          "text": [
            "Downloading data from https://storage.googleapis.com/tensorflow/keras-applications/vgg16/vgg16_weights_tf_dim_ordering_tf_kernels_notop.h5\n",
            "58892288/58889256 [==============================] - 1s 0us/step\n"
          ],
          "name": "stdout"
        }
      ]
    },
    {
      "cell_type": "code",
      "metadata": {
        "colab": {
          "base_uri": "https://localhost:8080/"
        },
        "id": "gAODTlNa2nvU",
        "outputId": "0e0c725f-9ed9-42a0-acc5-fa6308686a93"
      },
      "source": [
        "VGG16().summary()"
      ],
      "execution_count": null,
      "outputs": [
        {
          "output_type": "stream",
          "text": [
            "Downloading data from https://storage.googleapis.com/tensorflow/keras-applications/vgg16/vgg16_weights_tf_dim_ordering_tf_kernels.h5\n",
            "553467904/553467096 [==============================] - 4s 0us/step\n",
            "Model: \"vgg16\"\n",
            "_________________________________________________________________\n",
            "Layer (type)                 Output Shape              Param #   \n",
            "=================================================================\n",
            "input_2 (InputLayer)         [(None, 224, 224, 3)]     0         \n",
            "_________________________________________________________________\n",
            "block1_conv1 (Conv2D)        (None, 224, 224, 64)      1792      \n",
            "_________________________________________________________________\n",
            "block1_conv2 (Conv2D)        (None, 224, 224, 64)      36928     \n",
            "_________________________________________________________________\n",
            "block1_pool (MaxPooling2D)   (None, 112, 112, 64)      0         \n",
            "_________________________________________________________________\n",
            "block2_conv1 (Conv2D)        (None, 112, 112, 128)     73856     \n",
            "_________________________________________________________________\n",
            "block2_conv2 (Conv2D)        (None, 112, 112, 128)     147584    \n",
            "_________________________________________________________________\n",
            "block2_pool (MaxPooling2D)   (None, 56, 56, 128)       0         \n",
            "_________________________________________________________________\n",
            "block3_conv1 (Conv2D)        (None, 56, 56, 256)       295168    \n",
            "_________________________________________________________________\n",
            "block3_conv2 (Conv2D)        (None, 56, 56, 256)       590080    \n",
            "_________________________________________________________________\n",
            "block3_conv3 (Conv2D)        (None, 56, 56, 256)       590080    \n",
            "_________________________________________________________________\n",
            "block3_pool (MaxPooling2D)   (None, 28, 28, 256)       0         \n",
            "_________________________________________________________________\n",
            "block4_conv1 (Conv2D)        (None, 28, 28, 512)       1180160   \n",
            "_________________________________________________________________\n",
            "block4_conv2 (Conv2D)        (None, 28, 28, 512)       2359808   \n",
            "_________________________________________________________________\n",
            "block4_conv3 (Conv2D)        (None, 28, 28, 512)       2359808   \n",
            "_________________________________________________________________\n",
            "block4_pool (MaxPooling2D)   (None, 14, 14, 512)       0         \n",
            "_________________________________________________________________\n",
            "block5_conv1 (Conv2D)        (None, 14, 14, 512)       2359808   \n",
            "_________________________________________________________________\n",
            "block5_conv2 (Conv2D)        (None, 14, 14, 512)       2359808   \n",
            "_________________________________________________________________\n",
            "block5_conv3 (Conv2D)        (None, 14, 14, 512)       2359808   \n",
            "_________________________________________________________________\n",
            "block5_pool (MaxPooling2D)   (None, 7, 7, 512)         0         \n",
            "_________________________________________________________________\n",
            "flatten (Flatten)            (None, 25088)             0         \n",
            "_________________________________________________________________\n",
            "fc1 (Dense)                  (None, 4096)              102764544 \n",
            "_________________________________________________________________\n",
            "fc2 (Dense)                  (None, 4096)              16781312  \n",
            "_________________________________________________________________\n",
            "predictions (Dense)          (None, 1000)              4097000   \n",
            "=================================================================\n",
            "Total params: 138,357,544\n",
            "Trainable params: 138,357,544\n",
            "Non-trainable params: 0\n",
            "_________________________________________________________________\n"
          ],
          "name": "stdout"
        }
      ]
    },
    {
      "cell_type": "code",
      "metadata": {
        "colab": {
          "base_uri": "https://localhost:8080/"
        },
        "id": "yb9rqBJk0jMk",
        "outputId": "895d5d59-39b3-4c8c-801b-cf727d20bba0"
      },
      "source": [
        "vgg16.summary()"
      ],
      "execution_count": null,
      "outputs": [
        {
          "output_type": "stream",
          "text": [
            "Model: \"vgg16\"\n",
            "_________________________________________________________________\n",
            "Layer (type)                 Output Shape              Param #   \n",
            "=================================================================\n",
            "input_1 (InputLayer)         [(None, 224, 224, 3)]     0         \n",
            "_________________________________________________________________\n",
            "block1_conv1 (Conv2D)        (None, 224, 224, 64)      1792      \n",
            "_________________________________________________________________\n",
            "block1_conv2 (Conv2D)        (None, 224, 224, 64)      36928     \n",
            "_________________________________________________________________\n",
            "block1_pool (MaxPooling2D)   (None, 112, 112, 64)      0         \n",
            "_________________________________________________________________\n",
            "block2_conv1 (Conv2D)        (None, 112, 112, 128)     73856     \n",
            "_________________________________________________________________\n",
            "block2_conv2 (Conv2D)        (None, 112, 112, 128)     147584    \n",
            "_________________________________________________________________\n",
            "block2_pool (MaxPooling2D)   (None, 56, 56, 128)       0         \n",
            "_________________________________________________________________\n",
            "block3_conv1 (Conv2D)        (None, 56, 56, 256)       295168    \n",
            "_________________________________________________________________\n",
            "block3_conv2 (Conv2D)        (None, 56, 56, 256)       590080    \n",
            "_________________________________________________________________\n",
            "block3_conv3 (Conv2D)        (None, 56, 56, 256)       590080    \n",
            "_________________________________________________________________\n",
            "block3_pool (MaxPooling2D)   (None, 28, 28, 256)       0         \n",
            "_________________________________________________________________\n",
            "block4_conv1 (Conv2D)        (None, 28, 28, 512)       1180160   \n",
            "_________________________________________________________________\n",
            "block4_conv2 (Conv2D)        (None, 28, 28, 512)       2359808   \n",
            "_________________________________________________________________\n",
            "block4_conv3 (Conv2D)        (None, 28, 28, 512)       2359808   \n",
            "_________________________________________________________________\n",
            "block4_pool (MaxPooling2D)   (None, 14, 14, 512)       0         \n",
            "_________________________________________________________________\n",
            "block5_conv1 (Conv2D)        (None, 14, 14, 512)       2359808   \n",
            "_________________________________________________________________\n",
            "block5_conv2 (Conv2D)        (None, 14, 14, 512)       2359808   \n",
            "_________________________________________________________________\n",
            "block5_conv3 (Conv2D)        (None, 14, 14, 512)       2359808   \n",
            "_________________________________________________________________\n",
            "block5_pool (MaxPooling2D)   (None, 7, 7, 512)         0         \n",
            "=================================================================\n",
            "Total params: 14,714,688\n",
            "Trainable params: 14,714,688\n",
            "Non-trainable params: 0\n",
            "_________________________________________________________________\n"
          ],
          "name": "stdout"
        }
      ]
    },
    {
      "cell_type": "code",
      "metadata": {
        "id": "PeYWdEDj2a_3"
      },
      "source": [
        "#don't train existing weights\r\n",
        "for layer in vgg16.layers:\r\n",
        "  layer.trainable=False "
      ],
      "execution_count": null,
      "outputs": []
    },
    {
      "cell_type": "code",
      "metadata": {
        "colab": {
          "base_uri": "https://localhost:8080/"
        },
        "id": "rqmCxFQn65sp",
        "outputId": "0e0fe1a9-a4fc-4e31-e2ad-abe152e42fec"
      },
      "source": [
        "folders=glob('/content/drive/MyDrive/cats_and_dogs_filtered/cats_and_dogs_filtered/train/*')\r\n",
        "folders"
      ],
      "execution_count": null,
      "outputs": [
        {
          "output_type": "execute_result",
          "data": {
            "text/plain": [
              "['/content/drive/MyDrive/cats_and_dogs_filtered/cats_and_dogs_filtered/train/dogs',\n",
              " '/content/drive/MyDrive/cats_and_dogs_filtered/cats_and_dogs_filtered/train/cats']"
            ]
          },
          "metadata": {
            "tags": []
          },
          "execution_count": 24
        }
      ]
    },
    {
      "cell_type": "code",
      "metadata": {
        "id": "qM_0Pr5a7Fdy"
      },
      "source": [
        "x=Flatten()(vgg16.output)"
      ],
      "execution_count": null,
      "outputs": []
    },
    {
      "cell_type": "code",
      "metadata": {
        "id": "2QzahMI27SEr"
      },
      "source": [
        "prediction=Dense(len(folders),activation='softmax')(x)"
      ],
      "execution_count": null,
      "outputs": []
    },
    {
      "cell_type": "code",
      "metadata": {
        "id": "Mu-WOMQM8F4J"
      },
      "source": [
        "model=Model(inputs=vgg16.input,outputs=prediction)"
      ],
      "execution_count": null,
      "outputs": []
    },
    {
      "cell_type": "code",
      "metadata": {
        "colab": {
          "base_uri": "https://localhost:8080/"
        },
        "id": "EiboQNQK9VPJ",
        "outputId": "b624d42d-4489-422e-e0b6-47b7a4c2991f"
      },
      "source": [
        "model.summary()"
      ],
      "execution_count": null,
      "outputs": [
        {
          "output_type": "stream",
          "text": [
            "Model: \"model\"\n",
            "_________________________________________________________________\n",
            "Layer (type)                 Output Shape              Param #   \n",
            "=================================================================\n",
            "input_1 (InputLayer)         [(None, 224, 224, 3)]     0         \n",
            "_________________________________________________________________\n",
            "block1_conv1 (Conv2D)        (None, 224, 224, 64)      1792      \n",
            "_________________________________________________________________\n",
            "block1_conv2 (Conv2D)        (None, 224, 224, 64)      36928     \n",
            "_________________________________________________________________\n",
            "block1_pool (MaxPooling2D)   (None, 112, 112, 64)      0         \n",
            "_________________________________________________________________\n",
            "block2_conv1 (Conv2D)        (None, 112, 112, 128)     73856     \n",
            "_________________________________________________________________\n",
            "block2_conv2 (Conv2D)        (None, 112, 112, 128)     147584    \n",
            "_________________________________________________________________\n",
            "block2_pool (MaxPooling2D)   (None, 56, 56, 128)       0         \n",
            "_________________________________________________________________\n",
            "block3_conv1 (Conv2D)        (None, 56, 56, 256)       295168    \n",
            "_________________________________________________________________\n",
            "block3_conv2 (Conv2D)        (None, 56, 56, 256)       590080    \n",
            "_________________________________________________________________\n",
            "block3_conv3 (Conv2D)        (None, 56, 56, 256)       590080    \n",
            "_________________________________________________________________\n",
            "block3_pool (MaxPooling2D)   (None, 28, 28, 256)       0         \n",
            "_________________________________________________________________\n",
            "block4_conv1 (Conv2D)        (None, 28, 28, 512)       1180160   \n",
            "_________________________________________________________________\n",
            "block4_conv2 (Conv2D)        (None, 28, 28, 512)       2359808   \n",
            "_________________________________________________________________\n",
            "block4_conv3 (Conv2D)        (None, 28, 28, 512)       2359808   \n",
            "_________________________________________________________________\n",
            "block4_pool (MaxPooling2D)   (None, 14, 14, 512)       0         \n",
            "_________________________________________________________________\n",
            "block5_conv1 (Conv2D)        (None, 14, 14, 512)       2359808   \n",
            "_________________________________________________________________\n",
            "block5_conv2 (Conv2D)        (None, 14, 14, 512)       2359808   \n",
            "_________________________________________________________________\n",
            "block5_conv3 (Conv2D)        (None, 14, 14, 512)       2359808   \n",
            "_________________________________________________________________\n",
            "block5_pool (MaxPooling2D)   (None, 7, 7, 512)         0         \n",
            "_________________________________________________________________\n",
            "flatten (Flatten)            (None, 25088)             0         \n",
            "_________________________________________________________________\n",
            "dense (Dense)                (None, 2)                 50178     \n",
            "=================================================================\n",
            "Total params: 14,764,866\n",
            "Trainable params: 50,178\n",
            "Non-trainable params: 14,714,688\n",
            "_________________________________________________________________\n"
          ],
          "name": "stdout"
        }
      ]
    },
    {
      "cell_type": "code",
      "metadata": {
        "id": "5haiGlEU-PCh"
      },
      "source": [
        "model.compile(optimizer='Adam',\r\n",
        "              loss='categorical_crossentropy',\r\n",
        "              metrics=['accuracy']\r\n",
        "              )"
      ],
      "execution_count": null,
      "outputs": []
    },
    {
      "cell_type": "code",
      "metadata": {
        "id": "rCXc5HDK-jtv"
      },
      "source": [
        "# Use the Image Data Generator to import the images from the dataset\r\n",
        "from tensorflow.keras.preprocessing.image import ImageDataGenerator\r\n",
        "\r\n",
        "train_datagen = ImageDataGenerator(rescale = 1./255,\r\n",
        "                                   shear_range = 0.2,\r\n",
        "                                   zoom_range = 0.2,\r\n",
        "                                   horizontal_flip = True)\r\n",
        "\r\n",
        "test_datagen = ImageDataGenerator(rescale = 1./255)"
      ],
      "execution_count": null,
      "outputs": []
    },
    {
      "cell_type": "code",
      "metadata": {
        "colab": {
          "base_uri": "https://localhost:8080/"
        },
        "id": "6qL2fpW7-sVp",
        "outputId": "79eb055d-dc1c-4a52-b7d0-6d5976839c0e"
      },
      "source": [
        "# Make sure you provide the same target size as initialied for the image size\r\n",
        "training_set = train_datagen.flow_from_directory(train_path,\r\n",
        "                                                 target_size = (224, 224),\r\n",
        "                                                 batch_size = 32,\r\n",
        "                                                 class_mode = 'categorical')"
      ],
      "execution_count": null,
      "outputs": [
        {
          "output_type": "stream",
          "text": [
            "Found 2000 images belonging to 2 classes.\n"
          ],
          "name": "stdout"
        }
      ]
    },
    {
      "cell_type": "code",
      "metadata": {
        "colab": {
          "base_uri": "https://localhost:8080/"
        },
        "id": "L8yhaKeQ-2BS",
        "outputId": "1d28abca-1c88-4beb-a906-63894d0020de"
      },
      "source": [
        "test_set = test_datagen.flow_from_directory(valid_path,\r\n",
        "                                            target_size = (224, 224),\r\n",
        "                                            batch_size = 32,\r\n",
        "                                            class_mode = 'categorical')"
      ],
      "execution_count": null,
      "outputs": [
        {
          "output_type": "stream",
          "text": [
            "Found 1000 images belonging to 2 classes.\n"
          ],
          "name": "stdout"
        }
      ]
    },
    {
      "cell_type": "code",
      "metadata": {
        "colab": {
          "base_uri": "https://localhost:8080/"
        },
        "id": "qDl5xg64-61T",
        "outputId": "cbe6c6bb-954e-44a9-db81-0f5c1c9b2e63"
      },
      "source": [
        "# fit the model\r\n",
        "# Run the cell. It will take some time to execute\r\n",
        "r = model.fit_generator(\r\n",
        "  training_set,\r\n",
        "  validation_data=test_set,\r\n",
        "  epochs=50,\r\n",
        "  steps_per_epoch=len(training_set),\r\n",
        "  validation_steps=len(test_set)\r\n",
        ")"
      ],
      "execution_count": null,
      "outputs": [
        {
          "output_type": "stream",
          "text": [
            "/usr/local/lib/python3.7/dist-packages/tensorflow/python/keras/engine/training.py:1844: UserWarning: `Model.fit_generator` is deprecated and will be removed in a future version. Please use `Model.fit`, which supports generators.\n",
            "  warnings.warn('`Model.fit_generator` is deprecated and '\n"
          ],
          "name": "stderr"
        },
        {
          "output_type": "stream",
          "text": [
            "Epoch 1/50\n",
            "63/63 [==============================] - 1616s 25s/step - loss: 0.9450 - accuracy: 0.6638 - val_loss: 0.2395 - val_accuracy: 0.8930\n",
            "Epoch 2/50\n",
            "63/63 [==============================] - 41s 654ms/step - loss: 0.2377 - accuracy: 0.9045 - val_loss: 0.2327 - val_accuracy: 0.9000\n",
            "Epoch 3/50\n",
            "63/63 [==============================] - 41s 654ms/step - loss: 0.1797 - accuracy: 0.9334 - val_loss: 0.2658 - val_accuracy: 0.8910\n",
            "Epoch 4/50\n",
            "63/63 [==============================] - 41s 651ms/step - loss: 0.1549 - accuracy: 0.9426 - val_loss: 0.1880 - val_accuracy: 0.9200\n",
            "Epoch 5/50\n",
            "63/63 [==============================] - 41s 649ms/step - loss: 0.1160 - accuracy: 0.9543 - val_loss: 0.2069 - val_accuracy: 0.9150\n",
            "Epoch 6/50\n",
            "63/63 [==============================] - 41s 651ms/step - loss: 0.1025 - accuracy: 0.9679 - val_loss: 0.1882 - val_accuracy: 0.9230\n",
            "Epoch 7/50\n",
            "63/63 [==============================] - 42s 661ms/step - loss: 0.1043 - accuracy: 0.9591 - val_loss: 0.1975 - val_accuracy: 0.9220\n",
            "Epoch 8/50\n",
            "63/63 [==============================] - 42s 661ms/step - loss: 0.0958 - accuracy: 0.9737 - val_loss: 0.1905 - val_accuracy: 0.9220\n",
            "Epoch 9/50\n",
            "63/63 [==============================] - 41s 656ms/step - loss: 0.0686 - accuracy: 0.9815 - val_loss: 0.1964 - val_accuracy: 0.9260\n",
            "Epoch 10/50\n",
            "63/63 [==============================] - 41s 656ms/step - loss: 0.1032 - accuracy: 0.9585 - val_loss: 0.2119 - val_accuracy: 0.9190\n",
            "Epoch 11/50\n",
            "63/63 [==============================] - 41s 655ms/step - loss: 0.0651 - accuracy: 0.9801 - val_loss: 0.2073 - val_accuracy: 0.9230\n",
            "Epoch 12/50\n",
            "63/63 [==============================] - 41s 656ms/step - loss: 0.0738 - accuracy: 0.9696 - val_loss: 0.1967 - val_accuracy: 0.9240\n",
            "Epoch 13/50\n",
            "63/63 [==============================] - 41s 655ms/step - loss: 0.0673 - accuracy: 0.9770 - val_loss: 0.2213 - val_accuracy: 0.9180\n",
            "Epoch 14/50\n",
            "63/63 [==============================] - 41s 650ms/step - loss: 0.0453 - accuracy: 0.9859 - val_loss: 0.1966 - val_accuracy: 0.9250\n",
            "Epoch 15/50\n",
            "63/63 [==============================] - 41s 652ms/step - loss: 0.0456 - accuracy: 0.9834 - val_loss: 0.2080 - val_accuracy: 0.9240\n",
            "Epoch 16/50\n",
            "63/63 [==============================] - 41s 653ms/step - loss: 0.0374 - accuracy: 0.9955 - val_loss: 0.2222 - val_accuracy: 0.9180\n",
            "Epoch 17/50\n",
            "63/63 [==============================] - 41s 652ms/step - loss: 0.0344 - accuracy: 0.9912 - val_loss: 0.2520 - val_accuracy: 0.9100\n",
            "Epoch 18/50\n",
            "63/63 [==============================] - 41s 656ms/step - loss: 0.0361 - accuracy: 0.9922 - val_loss: 0.2392 - val_accuracy: 0.9170\n",
            "Epoch 19/50\n",
            "63/63 [==============================] - 41s 653ms/step - loss: 0.0281 - accuracy: 0.9938 - val_loss: 0.2171 - val_accuracy: 0.9210\n",
            "Epoch 20/50\n",
            "63/63 [==============================] - 41s 651ms/step - loss: 0.0489 - accuracy: 0.9784 - val_loss: 0.2424 - val_accuracy: 0.9200\n",
            "Epoch 21/50\n",
            "63/63 [==============================] - 41s 649ms/step - loss: 0.0318 - accuracy: 0.9912 - val_loss: 0.2352 - val_accuracy: 0.9170\n",
            "Epoch 22/50\n",
            "63/63 [==============================] - 41s 649ms/step - loss: 0.0265 - accuracy: 0.9939 - val_loss: 0.2462 - val_accuracy: 0.9130\n",
            "Epoch 23/50\n",
            "63/63 [==============================] - 41s 653ms/step - loss: 0.0220 - accuracy: 0.9976 - val_loss: 0.2179 - val_accuracy: 0.9240\n",
            "Epoch 24/50\n",
            "63/63 [==============================] - 41s 648ms/step - loss: 0.0313 - accuracy: 0.9912 - val_loss: 0.2518 - val_accuracy: 0.9150\n",
            "Epoch 25/50\n",
            "63/63 [==============================] - 41s 653ms/step - loss: 0.0315 - accuracy: 0.9942 - val_loss: 0.2243 - val_accuracy: 0.9220\n",
            "Epoch 26/50\n",
            "63/63 [==============================] - 41s 652ms/step - loss: 0.0193 - accuracy: 0.9961 - val_loss: 0.2476 - val_accuracy: 0.9180\n",
            "Epoch 27/50\n",
            "63/63 [==============================] - 41s 647ms/step - loss: 0.0305 - accuracy: 0.9930 - val_loss: 0.2371 - val_accuracy: 0.9230\n",
            "Epoch 28/50\n",
            "63/63 [==============================] - 41s 653ms/step - loss: 0.0332 - accuracy: 0.9865 - val_loss: 0.3576 - val_accuracy: 0.8980\n",
            "Epoch 29/50\n",
            "63/63 [==============================] - 41s 650ms/step - loss: 0.0402 - accuracy: 0.9883 - val_loss: 0.2262 - val_accuracy: 0.9290\n",
            "Epoch 30/50\n",
            "63/63 [==============================] - 41s 650ms/step - loss: 0.0209 - accuracy: 0.9932 - val_loss: 0.2251 - val_accuracy: 0.9310\n",
            "Epoch 31/50\n",
            "63/63 [==============================] - 41s 648ms/step - loss: 0.0222 - accuracy: 0.9959 - val_loss: 0.2467 - val_accuracy: 0.9190\n",
            "Epoch 32/50\n",
            "63/63 [==============================] - 41s 649ms/step - loss: 0.0167 - accuracy: 0.9961 - val_loss: 0.2278 - val_accuracy: 0.9260\n",
            "Epoch 33/50\n",
            "63/63 [==============================] - 41s 654ms/step - loss: 0.0152 - accuracy: 0.9980 - val_loss: 0.2350 - val_accuracy: 0.9270\n",
            "Epoch 34/50\n",
            "63/63 [==============================] - 41s 651ms/step - loss: 0.0151 - accuracy: 0.9974 - val_loss: 0.2364 - val_accuracy: 0.9200\n",
            "Epoch 35/50\n",
            "63/63 [==============================] - 41s 650ms/step - loss: 0.0172 - accuracy: 0.9964 - val_loss: 0.2476 - val_accuracy: 0.9200\n",
            "Epoch 36/50\n",
            "63/63 [==============================] - 41s 647ms/step - loss: 0.0137 - accuracy: 0.9994 - val_loss: 0.2311 - val_accuracy: 0.9210\n",
            "Epoch 37/50\n",
            "63/63 [==============================] - 41s 651ms/step - loss: 0.0211 - accuracy: 0.9944 - val_loss: 0.3194 - val_accuracy: 0.9050\n",
            "Epoch 38/50\n",
            "63/63 [==============================] - 41s 650ms/step - loss: 0.0218 - accuracy: 0.9927 - val_loss: 0.2423 - val_accuracy: 0.9210\n",
            "Epoch 39/50\n",
            "63/63 [==============================] - 41s 648ms/step - loss: 0.0197 - accuracy: 0.9985 - val_loss: 0.2504 - val_accuracy: 0.9150\n",
            "Epoch 40/50\n",
            "63/63 [==============================] - 41s 648ms/step - loss: 0.0148 - accuracy: 0.9971 - val_loss: 0.2454 - val_accuracy: 0.9180\n",
            "Epoch 41/50\n",
            "63/63 [==============================] - 41s 656ms/step - loss: 0.0098 - accuracy: 0.9990 - val_loss: 0.2626 - val_accuracy: 0.9130\n",
            "Epoch 42/50\n",
            "63/63 [==============================] - 41s 647ms/step - loss: 0.0110 - accuracy: 0.9983 - val_loss: 0.2537 - val_accuracy: 0.9150\n",
            "Epoch 43/50\n",
            "63/63 [==============================] - 41s 648ms/step - loss: 0.0143 - accuracy: 0.9964 - val_loss: 0.2584 - val_accuracy: 0.9210\n",
            "Epoch 44/50\n",
            "63/63 [==============================] - 41s 651ms/step - loss: 0.0298 - accuracy: 0.9905 - val_loss: 0.2754 - val_accuracy: 0.9170\n",
            "Epoch 45/50\n",
            "63/63 [==============================] - 41s 650ms/step - loss: 0.0125 - accuracy: 0.9979 - val_loss: 0.2564 - val_accuracy: 0.9230\n",
            "Epoch 46/50\n",
            "63/63 [==============================] - 41s 648ms/step - loss: 0.0097 - accuracy: 0.9985 - val_loss: 0.2507 - val_accuracy: 0.9290\n",
            "Epoch 47/50\n",
            "63/63 [==============================] - 41s 653ms/step - loss: 0.0199 - accuracy: 0.9926 - val_loss: 0.2666 - val_accuracy: 0.9240\n",
            "Epoch 48/50\n",
            "63/63 [==============================] - 41s 648ms/step - loss: 0.0211 - accuracy: 0.9954 - val_loss: 0.3379 - val_accuracy: 0.9070\n",
            "Epoch 49/50\n",
            "63/63 [==============================] - 41s 643ms/step - loss: 0.0302 - accuracy: 0.9897 - val_loss: 0.3720 - val_accuracy: 0.9090\n",
            "Epoch 50/50\n",
            "63/63 [==============================] - 41s 656ms/step - loss: 0.0266 - accuracy: 0.9889 - val_loss: 0.2731 - val_accuracy: 0.9310\n"
          ],
          "name": "stdout"
        }
      ]
    },
    {
      "cell_type": "code",
      "metadata": {
        "id": "pJEyEGvT_gri"
      },
      "source": [
        "from keras.models import load_model\r\n",
        "model.save('VGG16.h5')\r\n",
        "model=load_model('VGG16.h5')\r\n"
      ],
      "execution_count": null,
      "outputs": []
    },
    {
      "cell_type": "code",
      "metadata": {
        "id": "1u8e9EZqQxlH"
      },
      "source": [
        "import matplotlib.pyplot as plt\r\n",
        "plt.plot(r.history['loss'], label='train loss')\r\n",
        "plt.plot(r.history['val_loss'], label='val loss')\r\n",
        "plt.legend()\r\n",
        "plt.show()\r\n",
        "plt.savefig('LossVal_loss')\r\n",
        "\r\n",
        "# plot the accuracy\r\n",
        "plt.plot(r.history['accuracy'], label='train acc')\r\n",
        "plt.plot(r.history['val_accuracy'], label='val acc')\r\n",
        "plt.legend()\r\n",
        "plt.show()\r\n",
        "plt.savefig('AccVal_acc')"
      ],
      "execution_count": null,
      "outputs": []
    },
    {
      "cell_type": "code",
      "metadata": {
        "id": "WD61mmN8Q3Vl"
      },
      "source": [
        "import numpy as np\r\n",
        "from tensorflow.keras.preprocessing import image\r\n",
        "test_image = image.load_img('/content/drive/MyDrive/cats_and_dogs_filtered/cats_and_dogs_filtered/validation/dogs/dog.2002.jpg', \r\n",
        "                            target_size = (64,64))\r\n",
        "test_image = image.img_to_array(test_image)\r\n",
        "test_image=test_image/255\r\n",
        "test_image = np.expand_dims(test_image, axis = 0)\r\n",
        "result = model.predict(test_image)"
      ],
      "execution_count": null,
      "outputs": []
    },
    {
      "cell_type": "code",
      "metadata": {
        "id": "ZTxP3eUKSK1F"
      },
      "source": [
        "a=np.argmax(model.predict(result), axis=1) #returns indices of maximum values\r\n",
        "if a==0:\r\n",
        "  print('The image is classified as Cat')\r\n",
        "else:\r\n",
        "  print('The image is classified as dog')"
      ],
      "execution_count": null,
      "outputs": []
    }
  ]
}