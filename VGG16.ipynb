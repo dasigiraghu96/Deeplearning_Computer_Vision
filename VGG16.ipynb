{
  "nbformat": 4,
  "nbformat_minor": 0,
  "metadata": {
    "colab": {
      "name": "VGG16.ipynb",
      "provenance": [],
      "collapsed_sections": [],
      "mount_file_id": "10NAZE9geYqiq-xclrWXzxwwaz6Y5apji",
      "authorship_tag": "ABX9TyOzwaxWETEPcVzs0P+ombkr",
      "include_colab_link": true
    },
    "kernelspec": {
      "name": "python3",
      "display_name": "Python 3"
    },
    "accelerator": "GPU"
  },
  "cells": [
    {
      "cell_type": "markdown",
      "metadata": {
        "id": "view-in-github",
        "colab_type": "text"
      },
      "source": [
        "<a href=\"https://colab.research.google.com/github/dasigiraghu96/Deeplearning_Computer_Vision/blob/main/VGG16.ipynb\" target=\"_parent\"><img src=\"https://colab.research.google.com/assets/colab-badge.svg\" alt=\"Open In Colab\"/></a>"
      ]
    },
    {
      "cell_type": "code",
      "metadata": {
        "id": "lls7Cv1cvGij"
      },
      "source": [
        "import tensorflow as tf"
      ],
      "execution_count": 1,
      "outputs": []
    },
    {
      "cell_type": "code",
      "metadata": {
        "colab": {
          "base_uri": "https://localhost:8080/",
          "height": 35
        },
        "id": "bDiFoP6AvORW",
        "outputId": "42c39d9a-0138-4ff0-d5ec-dbda65edf263"
      },
      "source": [
        "tf.__version__"
      ],
      "execution_count": 2,
      "outputs": [
        {
          "output_type": "execute_result",
          "data": {
            "application/vnd.google.colaboratory.intrinsic+json": {
              "type": "string"
            },
            "text/plain": [
              "'2.4.1'"
            ]
          },
          "metadata": {
            "tags": []
          },
          "execution_count": 2
        }
      ]
    },
    {
      "cell_type": "code",
      "metadata": {
        "colab": {
          "base_uri": "https://localhost:8080/"
        },
        "id": "V1ggLFJovTZ9",
        "outputId": "1f9ac6e5-588d-499d-cc66-39400c400b69"
      },
      "source": [
        "tf.test.gpu_device_name"
      ],
      "execution_count": 3,
      "outputs": [
        {
          "output_type": "execute_result",
          "data": {
            "text/plain": [
              "<function tensorflow.python.framework.test_util.gpu_device_name>"
            ]
          },
          "metadata": {
            "tags": []
          },
          "execution_count": 3
        }
      ]
    },
    {
      "cell_type": "code",
      "metadata": {
        "colab": {
          "base_uri": "https://localhost:8080/"
        },
        "id": "sJuHOMkBvdTb",
        "outputId": "445c007f-8900-44a4-fc25-b8817b4e2e7b"
      },
      "source": [
        "!nvidia-smi"
      ],
      "execution_count": 4,
      "outputs": [
        {
          "output_type": "stream",
          "text": [
            "Sun Mar 14 09:13:20 2021       \n",
            "+-----------------------------------------------------------------------------+\n",
            "| NVIDIA-SMI 460.56       Driver Version: 460.32.03    CUDA Version: 11.2     |\n",
            "|-------------------------------+----------------------+----------------------+\n",
            "| GPU  Name        Persistence-M| Bus-Id        Disp.A | Volatile Uncorr. ECC |\n",
            "| Fan  Temp  Perf  Pwr:Usage/Cap|         Memory-Usage | GPU-Util  Compute M. |\n",
            "|                               |                      |               MIG M. |\n",
            "|===============================+======================+======================|\n",
            "|   0  Tesla T4            Off  | 00000000:00:04.0 Off |                    0 |\n",
            "| N/A   42C    P8     9W /  70W |      0MiB / 15109MiB |      0%      Default |\n",
            "|                               |                      |                  N/A |\n",
            "+-------------------------------+----------------------+----------------------+\n",
            "                                                                               \n",
            "+-----------------------------------------------------------------------------+\n",
            "| Processes:                                                                  |\n",
            "|  GPU   GI   CI        PID   Type   Process name                  GPU Memory |\n",
            "|        ID   ID                                                   Usage      |\n",
            "|=============================================================================|\n",
            "|  No running processes found                                                 |\n",
            "+-----------------------------------------------------------------------------+\n"
          ],
          "name": "stdout"
        }
      ]
    },
    {
      "cell_type": "code",
      "metadata": {
        "colab": {
          "base_uri": "https://localhost:8080/"
        },
        "id": "zKuC-xaqvzSd",
        "outputId": "41f29459-735a-4594-d5f8-708467753e88"
      },
      "source": [
        "import tensorflow as tf \r\n",
        "\r\n",
        "if tf.test.gpu_device_name(): \r\n",
        "    \r\n",
        "\r\n",
        "    print('Default GPU Device:{}'.format(tf.test.gpu_device_name()))\r\n",
        "\r\n",
        "else:\r\n",
        "\r\n",
        "    print(\"Please install GPU version of TF\")"
      ],
      "execution_count": 5,
      "outputs": [
        {
          "output_type": "stream",
          "text": [
            "Default GPU Device:/device:GPU:0\n"
          ],
          "name": "stdout"
        }
      ]
    },
    {
      "cell_type": "code",
      "metadata": {
        "id": "0El3ZWrxxCKF"
      },
      "source": [
        "from tensorflow.compat.v1 import ConfigProto\r\n",
        "from tensorflow.compat.v1 import InteractiveSession\r\n",
        "\r\n",
        "config=ConfigProto()\r\n",
        "config.gpu_options.per_process_gpu_memory_fraction=0.5\r\n",
        "config.gpu_options.allow_growth=True\r\n",
        "session=InteractiveSession(config=config)"
      ],
      "execution_count": 6,
      "outputs": []
    },
    {
      "cell_type": "code",
      "metadata": {
        "id": "pLodhIkbxv70"
      },
      "source": [
        "from tensorflow.keras.layers import Input,Lambda,Dense,Flatten\r\n",
        "from tensorflow.keras.models import Model\r\n",
        "from tensorflow.keras.applications.vgg16 import VGG16\r\n",
        "from tensorflow.keras.applications.vgg16 import preprocess_input\r\n",
        "from tensorflow.keras.preprocessing.image import ImageDataGenerator,load_img,img_to_array\r\n",
        "from tensorflow.keras.models import Sequential\r\n",
        "import numpy as np\r\n",
        "from glob import glob"
      ],
      "execution_count": 7,
      "outputs": []
    },
    {
      "cell_type": "code",
      "metadata": {
        "id": "11mICm-2zh4f"
      },
      "source": [
        "Image_size=[224,224]\r\n",
        "train_path='/content/drive/MyDrive/cats_and_dogs_filtered/cats_and_dogs_filtered/train'\r\n",
        "valid_path='/content/drive/MyDrive/cats_and_dogs_filtered/cats_and_dogs_filtered/validation'"
      ],
      "execution_count": 8,
      "outputs": []
    },
    {
      "cell_type": "code",
      "metadata": {
        "colab": {
          "base_uri": "https://localhost:8080/"
        },
        "id": "yqLU_Voo0CS8",
        "outputId": "863ca5ab-9276-4075-a396-4ce616230973"
      },
      "source": [
        "#VGG16 data preprocessing\r\n",
        "#input_shape=rgb channel add [3]\r\n",
        "#take weights from imagenet competetion\r\n",
        "#include_top=False will remove flatten,fully connected layer,output layer used in imagenet competetion\r\n",
        "#here we need only 2 classes\r\n",
        "#input layer will also be skipped,by specifying input shape we are specifying our own input shape for our data\r\n",
        "vgg16=VGG16(input_shape=Image_size+[3],weights='imagenet',include_top=False)"
      ],
      "execution_count": 9,
      "outputs": [
        {
          "output_type": "stream",
          "text": [
            "Downloading data from https://storage.googleapis.com/tensorflow/keras-applications/vgg16/vgg16_weights_tf_dim_ordering_tf_kernels_notop.h5\n",
            "58892288/58889256 [==============================] - 1s 0us/step\n"
          ],
          "name": "stdout"
        }
      ]
    },
    {
      "cell_type": "code",
      "metadata": {
        "colab": {
          "base_uri": "https://localhost:8080/"
        },
        "id": "gAODTlNa2nvU",
        "outputId": "9ffe1db9-b026-4b2e-d166-bfbb094e4095"
      },
      "source": [
        "VGG16().summary()"
      ],
      "execution_count": 10,
      "outputs": [
        {
          "output_type": "stream",
          "text": [
            "Downloading data from https://storage.googleapis.com/tensorflow/keras-applications/vgg16/vgg16_weights_tf_dim_ordering_tf_kernels.h5\n",
            "553467904/553467096 [==============================] - 5s 0us/step\n",
            "Model: \"vgg16\"\n",
            "_________________________________________________________________\n",
            "Layer (type)                 Output Shape              Param #   \n",
            "=================================================================\n",
            "input_2 (InputLayer)         [(None, 224, 224, 3)]     0         \n",
            "_________________________________________________________________\n",
            "block1_conv1 (Conv2D)        (None, 224, 224, 64)      1792      \n",
            "_________________________________________________________________\n",
            "block1_conv2 (Conv2D)        (None, 224, 224, 64)      36928     \n",
            "_________________________________________________________________\n",
            "block1_pool (MaxPooling2D)   (None, 112, 112, 64)      0         \n",
            "_________________________________________________________________\n",
            "block2_conv1 (Conv2D)        (None, 112, 112, 128)     73856     \n",
            "_________________________________________________________________\n",
            "block2_conv2 (Conv2D)        (None, 112, 112, 128)     147584    \n",
            "_________________________________________________________________\n",
            "block2_pool (MaxPooling2D)   (None, 56, 56, 128)       0         \n",
            "_________________________________________________________________\n",
            "block3_conv1 (Conv2D)        (None, 56, 56, 256)       295168    \n",
            "_________________________________________________________________\n",
            "block3_conv2 (Conv2D)        (None, 56, 56, 256)       590080    \n",
            "_________________________________________________________________\n",
            "block3_conv3 (Conv2D)        (None, 56, 56, 256)       590080    \n",
            "_________________________________________________________________\n",
            "block3_pool (MaxPooling2D)   (None, 28, 28, 256)       0         \n",
            "_________________________________________________________________\n",
            "block4_conv1 (Conv2D)        (None, 28, 28, 512)       1180160   \n",
            "_________________________________________________________________\n",
            "block4_conv2 (Conv2D)        (None, 28, 28, 512)       2359808   \n",
            "_________________________________________________________________\n",
            "block4_conv3 (Conv2D)        (None, 28, 28, 512)       2359808   \n",
            "_________________________________________________________________\n",
            "block4_pool (MaxPooling2D)   (None, 14, 14, 512)       0         \n",
            "_________________________________________________________________\n",
            "block5_conv1 (Conv2D)        (None, 14, 14, 512)       2359808   \n",
            "_________________________________________________________________\n",
            "block5_conv2 (Conv2D)        (None, 14, 14, 512)       2359808   \n",
            "_________________________________________________________________\n",
            "block5_conv3 (Conv2D)        (None, 14, 14, 512)       2359808   \n",
            "_________________________________________________________________\n",
            "block5_pool (MaxPooling2D)   (None, 7, 7, 512)         0         \n",
            "_________________________________________________________________\n",
            "flatten (Flatten)            (None, 25088)             0         \n",
            "_________________________________________________________________\n",
            "fc1 (Dense)                  (None, 4096)              102764544 \n",
            "_________________________________________________________________\n",
            "fc2 (Dense)                  (None, 4096)              16781312  \n",
            "_________________________________________________________________\n",
            "predictions (Dense)          (None, 1000)              4097000   \n",
            "=================================================================\n",
            "Total params: 138,357,544\n",
            "Trainable params: 138,357,544\n",
            "Non-trainable params: 0\n",
            "_________________________________________________________________\n"
          ],
          "name": "stdout"
        }
      ]
    },
    {
      "cell_type": "code",
      "metadata": {
        "colab": {
          "base_uri": "https://localhost:8080/"
        },
        "id": "yb9rqBJk0jMk",
        "outputId": "64ce8d5f-d297-416a-915b-8fc69974443c"
      },
      "source": [
        "vgg16.summary()"
      ],
      "execution_count": 11,
      "outputs": [
        {
          "output_type": "stream",
          "text": [
            "Model: \"vgg16\"\n",
            "_________________________________________________________________\n",
            "Layer (type)                 Output Shape              Param #   \n",
            "=================================================================\n",
            "input_1 (InputLayer)         [(None, 224, 224, 3)]     0         \n",
            "_________________________________________________________________\n",
            "block1_conv1 (Conv2D)        (None, 224, 224, 64)      1792      \n",
            "_________________________________________________________________\n",
            "block1_conv2 (Conv2D)        (None, 224, 224, 64)      36928     \n",
            "_________________________________________________________________\n",
            "block1_pool (MaxPooling2D)   (None, 112, 112, 64)      0         \n",
            "_________________________________________________________________\n",
            "block2_conv1 (Conv2D)        (None, 112, 112, 128)     73856     \n",
            "_________________________________________________________________\n",
            "block2_conv2 (Conv2D)        (None, 112, 112, 128)     147584    \n",
            "_________________________________________________________________\n",
            "block2_pool (MaxPooling2D)   (None, 56, 56, 128)       0         \n",
            "_________________________________________________________________\n",
            "block3_conv1 (Conv2D)        (None, 56, 56, 256)       295168    \n",
            "_________________________________________________________________\n",
            "block3_conv2 (Conv2D)        (None, 56, 56, 256)       590080    \n",
            "_________________________________________________________________\n",
            "block3_conv3 (Conv2D)        (None, 56, 56, 256)       590080    \n",
            "_________________________________________________________________\n",
            "block3_pool (MaxPooling2D)   (None, 28, 28, 256)       0         \n",
            "_________________________________________________________________\n",
            "block4_conv1 (Conv2D)        (None, 28, 28, 512)       1180160   \n",
            "_________________________________________________________________\n",
            "block4_conv2 (Conv2D)        (None, 28, 28, 512)       2359808   \n",
            "_________________________________________________________________\n",
            "block4_conv3 (Conv2D)        (None, 28, 28, 512)       2359808   \n",
            "_________________________________________________________________\n",
            "block4_pool (MaxPooling2D)   (None, 14, 14, 512)       0         \n",
            "_________________________________________________________________\n",
            "block5_conv1 (Conv2D)        (None, 14, 14, 512)       2359808   \n",
            "_________________________________________________________________\n",
            "block5_conv2 (Conv2D)        (None, 14, 14, 512)       2359808   \n",
            "_________________________________________________________________\n",
            "block5_conv3 (Conv2D)        (None, 14, 14, 512)       2359808   \n",
            "_________________________________________________________________\n",
            "block5_pool (MaxPooling2D)   (None, 7, 7, 512)         0         \n",
            "=================================================================\n",
            "Total params: 14,714,688\n",
            "Trainable params: 14,714,688\n",
            "Non-trainable params: 0\n",
            "_________________________________________________________________\n"
          ],
          "name": "stdout"
        }
      ]
    },
    {
      "cell_type": "code",
      "metadata": {
        "id": "PeYWdEDj2a_3"
      },
      "source": [
        "#don't train existing weights\r\n",
        "for layer in vgg16.layers:\r\n",
        "  layer.trainable=False "
      ],
      "execution_count": 12,
      "outputs": []
    },
    {
      "cell_type": "code",
      "metadata": {
        "colab": {
          "base_uri": "https://localhost:8080/"
        },
        "id": "rqmCxFQn65sp",
        "outputId": "bee8a6c1-fd61-47a7-d498-82ccd6107f1c"
      },
      "source": [
        "folders=glob('/content/drive/MyDrive/cats_and_dogs_filtered/cats_and_dogs_filtered/train/*')\r\n",
        "folders"
      ],
      "execution_count": 13,
      "outputs": [
        {
          "output_type": "execute_result",
          "data": {
            "text/plain": [
              "['/content/drive/MyDrive/cats_and_dogs_filtered/cats_and_dogs_filtered/train/dogs',\n",
              " '/content/drive/MyDrive/cats_and_dogs_filtered/cats_and_dogs_filtered/train/cats']"
            ]
          },
          "metadata": {
            "tags": []
          },
          "execution_count": 13
        }
      ]
    },
    {
      "cell_type": "code",
      "metadata": {
        "id": "qM_0Pr5a7Fdy"
      },
      "source": [
        "x=Flatten()(vgg16.output)"
      ],
      "execution_count": 14,
      "outputs": []
    },
    {
      "cell_type": "code",
      "metadata": {
        "id": "2QzahMI27SEr"
      },
      "source": [
        "prediction=Dense(len(folders),activation='softmax')(x)"
      ],
      "execution_count": 15,
      "outputs": []
    },
    {
      "cell_type": "code",
      "metadata": {
        "id": "Mu-WOMQM8F4J"
      },
      "source": [
        "model=Model(inputs=vgg16.input,outputs=prediction)"
      ],
      "execution_count": 16,
      "outputs": []
    },
    {
      "cell_type": "code",
      "metadata": {
        "colab": {
          "base_uri": "https://localhost:8080/"
        },
        "id": "EiboQNQK9VPJ",
        "outputId": "9bf723a5-b1ce-4a2e-80ba-aa9ba58c3f4b"
      },
      "source": [
        "model.summary()"
      ],
      "execution_count": 17,
      "outputs": [
        {
          "output_type": "stream",
          "text": [
            "Model: \"model\"\n",
            "_________________________________________________________________\n",
            "Layer (type)                 Output Shape              Param #   \n",
            "=================================================================\n",
            "input_1 (InputLayer)         [(None, 224, 224, 3)]     0         \n",
            "_________________________________________________________________\n",
            "block1_conv1 (Conv2D)        (None, 224, 224, 64)      1792      \n",
            "_________________________________________________________________\n",
            "block1_conv2 (Conv2D)        (None, 224, 224, 64)      36928     \n",
            "_________________________________________________________________\n",
            "block1_pool (MaxPooling2D)   (None, 112, 112, 64)      0         \n",
            "_________________________________________________________________\n",
            "block2_conv1 (Conv2D)        (None, 112, 112, 128)     73856     \n",
            "_________________________________________________________________\n",
            "block2_conv2 (Conv2D)        (None, 112, 112, 128)     147584    \n",
            "_________________________________________________________________\n",
            "block2_pool (MaxPooling2D)   (None, 56, 56, 128)       0         \n",
            "_________________________________________________________________\n",
            "block3_conv1 (Conv2D)        (None, 56, 56, 256)       295168    \n",
            "_________________________________________________________________\n",
            "block3_conv2 (Conv2D)        (None, 56, 56, 256)       590080    \n",
            "_________________________________________________________________\n",
            "block3_conv3 (Conv2D)        (None, 56, 56, 256)       590080    \n",
            "_________________________________________________________________\n",
            "block3_pool (MaxPooling2D)   (None, 28, 28, 256)       0         \n",
            "_________________________________________________________________\n",
            "block4_conv1 (Conv2D)        (None, 28, 28, 512)       1180160   \n",
            "_________________________________________________________________\n",
            "block4_conv2 (Conv2D)        (None, 28, 28, 512)       2359808   \n",
            "_________________________________________________________________\n",
            "block4_conv3 (Conv2D)        (None, 28, 28, 512)       2359808   \n",
            "_________________________________________________________________\n",
            "block4_pool (MaxPooling2D)   (None, 14, 14, 512)       0         \n",
            "_________________________________________________________________\n",
            "block5_conv1 (Conv2D)        (None, 14, 14, 512)       2359808   \n",
            "_________________________________________________________________\n",
            "block5_conv2 (Conv2D)        (None, 14, 14, 512)       2359808   \n",
            "_________________________________________________________________\n",
            "block5_conv3 (Conv2D)        (None, 14, 14, 512)       2359808   \n",
            "_________________________________________________________________\n",
            "block5_pool (MaxPooling2D)   (None, 7, 7, 512)         0         \n",
            "_________________________________________________________________\n",
            "flatten (Flatten)            (None, 25088)             0         \n",
            "_________________________________________________________________\n",
            "dense (Dense)                (None, 2)                 50178     \n",
            "=================================================================\n",
            "Total params: 14,764,866\n",
            "Trainable params: 50,178\n",
            "Non-trainable params: 14,714,688\n",
            "_________________________________________________________________\n"
          ],
          "name": "stdout"
        }
      ]
    },
    {
      "cell_type": "code",
      "metadata": {
        "id": "5haiGlEU-PCh"
      },
      "source": [
        "model.compile(optimizer='Adam',\r\n",
        "              loss='categorical_crossentropy',\r\n",
        "              metrics=['accuracy']\r\n",
        "              )"
      ],
      "execution_count": 18,
      "outputs": []
    },
    {
      "cell_type": "code",
      "metadata": {
        "id": "rCXc5HDK-jtv"
      },
      "source": [
        "# Use the Image Data Generator to import the images from the dataset\r\n",
        "from tensorflow.keras.preprocessing.image import ImageDataGenerator\r\n",
        "\r\n",
        "train_datagen = ImageDataGenerator(rescale = 1./255,\r\n",
        "                                   shear_range = 0.2,\r\n",
        "                                   zoom_range = 0.2,\r\n",
        "                                   horizontal_flip = True)\r\n",
        "\r\n",
        "test_datagen = ImageDataGenerator(rescale = 1./255)"
      ],
      "execution_count": 19,
      "outputs": []
    },
    {
      "cell_type": "code",
      "metadata": {
        "colab": {
          "base_uri": "https://localhost:8080/"
        },
        "id": "6qL2fpW7-sVp",
        "outputId": "b0b50525-b29d-4a98-b3c4-e1c72dc6dd38"
      },
      "source": [
        "# Make sure you provide the same target size as initialied for the image size\r\n",
        "training_set = train_datagen.flow_from_directory(train_path,\r\n",
        "                                                 target_size = (224, 224),\r\n",
        "                                                 batch_size = 32,\r\n",
        "                                                 class_mode = 'categorical')"
      ],
      "execution_count": 20,
      "outputs": [
        {
          "output_type": "stream",
          "text": [
            "Found 2000 images belonging to 2 classes.\n"
          ],
          "name": "stdout"
        }
      ]
    },
    {
      "cell_type": "code",
      "metadata": {
        "colab": {
          "base_uri": "https://localhost:8080/"
        },
        "id": "L8yhaKeQ-2BS",
        "outputId": "997ae861-ed22-4ac8-8759-2da7e6a4fb53"
      },
      "source": [
        "test_set = test_datagen.flow_from_directory(valid_path,\r\n",
        "                                            target_size = (224, 224),\r\n",
        "                                            batch_size = 32,\r\n",
        "                                            class_mode = 'categorical')"
      ],
      "execution_count": 21,
      "outputs": [
        {
          "output_type": "stream",
          "text": [
            "Found 1000 images belonging to 2 classes.\n"
          ],
          "name": "stdout"
        }
      ]
    },
    {
      "cell_type": "code",
      "metadata": {
        "colab": {
          "base_uri": "https://localhost:8080/"
        },
        "id": "qDl5xg64-61T",
        "outputId": "34efeaad-7490-4616-f6c6-7127ae1423f8"
      },
      "source": [
        "# fit the model\r\n",
        "# Run the cell. It will take some time to execute\r\n",
        "r = model.fit(\r\n",
        "  training_set,\r\n",
        "  validation_data=test_set,\r\n",
        "  epochs=50,\r\n",
        "  steps_per_epoch=len(training_set),\r\n",
        "  validation_steps=len(test_set)\r\n",
        ")"
      ],
      "execution_count": 22,
      "outputs": [
        {
          "output_type": "stream",
          "text": [
            "Epoch 1/50\n",
            "63/63 [==============================] - 639s 10s/step - loss: 0.8969 - accuracy: 0.6903 - val_loss: 0.2467 - val_accuracy: 0.8970\n",
            "Epoch 2/50\n",
            "63/63 [==============================] - 32s 505ms/step - loss: 0.2273 - accuracy: 0.9095 - val_loss: 0.2326 - val_accuracy: 0.9020\n",
            "Epoch 3/50\n",
            "63/63 [==============================] - 32s 506ms/step - loss: 0.1804 - accuracy: 0.9306 - val_loss: 0.2045 - val_accuracy: 0.9160\n",
            "Epoch 4/50\n",
            "63/63 [==============================] - 32s 501ms/step - loss: 0.1594 - accuracy: 0.9344 - val_loss: 0.1969 - val_accuracy: 0.9290\n",
            "Epoch 5/50\n",
            "63/63 [==============================] - 32s 501ms/step - loss: 0.1141 - accuracy: 0.9565 - val_loss: 0.2341 - val_accuracy: 0.8980\n",
            "Epoch 6/50\n",
            "63/63 [==============================] - 31s 497ms/step - loss: 0.1310 - accuracy: 0.9485 - val_loss: 0.2150 - val_accuracy: 0.9120\n",
            "Epoch 7/50\n",
            "63/63 [==============================] - 31s 498ms/step - loss: 0.1045 - accuracy: 0.9598 - val_loss: 0.1885 - val_accuracy: 0.9270\n",
            "Epoch 8/50\n",
            "63/63 [==============================] - 31s 500ms/step - loss: 0.0830 - accuracy: 0.9733 - val_loss: 0.2258 - val_accuracy: 0.9190\n",
            "Epoch 9/50\n",
            "63/63 [==============================] - 31s 497ms/step - loss: 0.0846 - accuracy: 0.9722 - val_loss: 0.1938 - val_accuracy: 0.9260\n",
            "Epoch 10/50\n",
            "63/63 [==============================] - 31s 495ms/step - loss: 0.0669 - accuracy: 0.9804 - val_loss: 0.2037 - val_accuracy: 0.9230\n",
            "Epoch 11/50\n",
            "63/63 [==============================] - 31s 495ms/step - loss: 0.0684 - accuracy: 0.9719 - val_loss: 0.1888 - val_accuracy: 0.9240\n",
            "Epoch 12/50\n",
            "63/63 [==============================] - 32s 500ms/step - loss: 0.0497 - accuracy: 0.9816 - val_loss: 0.2166 - val_accuracy: 0.9180\n",
            "Epoch 13/50\n",
            "63/63 [==============================] - 31s 498ms/step - loss: 0.0528 - accuracy: 0.9867 - val_loss: 0.2264 - val_accuracy: 0.9140\n",
            "Epoch 14/50\n",
            "63/63 [==============================] - 31s 498ms/step - loss: 0.0521 - accuracy: 0.9808 - val_loss: 0.1935 - val_accuracy: 0.9300\n",
            "Epoch 15/50\n",
            "63/63 [==============================] - 32s 501ms/step - loss: 0.0455 - accuracy: 0.9875 - val_loss: 0.2172 - val_accuracy: 0.9220\n",
            "Epoch 16/50\n",
            "63/63 [==============================] - 31s 496ms/step - loss: 0.0355 - accuracy: 0.9935 - val_loss: 0.1936 - val_accuracy: 0.9300\n",
            "Epoch 17/50\n",
            "63/63 [==============================] - 31s 498ms/step - loss: 0.0382 - accuracy: 0.9893 - val_loss: 0.2052 - val_accuracy: 0.9260\n",
            "Epoch 18/50\n",
            "63/63 [==============================] - 31s 496ms/step - loss: 0.0379 - accuracy: 0.9910 - val_loss: 0.2084 - val_accuracy: 0.9260\n",
            "Epoch 19/50\n",
            "63/63 [==============================] - 31s 496ms/step - loss: 0.0424 - accuracy: 0.9880 - val_loss: 0.2158 - val_accuracy: 0.9250\n",
            "Epoch 20/50\n",
            "63/63 [==============================] - 31s 497ms/step - loss: 0.0260 - accuracy: 0.9966 - val_loss: 0.2222 - val_accuracy: 0.9200\n",
            "Epoch 21/50\n",
            "63/63 [==============================] - 31s 496ms/step - loss: 0.0367 - accuracy: 0.9879 - val_loss: 0.2367 - val_accuracy: 0.9170\n",
            "Epoch 22/50\n",
            "63/63 [==============================] - 31s 499ms/step - loss: 0.0299 - accuracy: 0.9917 - val_loss: 0.2343 - val_accuracy: 0.9180\n",
            "Epoch 23/50\n",
            "63/63 [==============================] - 31s 496ms/step - loss: 0.0312 - accuracy: 0.9926 - val_loss: 0.2332 - val_accuracy: 0.9250\n",
            "Epoch 24/50\n",
            "63/63 [==============================] - 31s 496ms/step - loss: 0.0251 - accuracy: 0.9934 - val_loss: 0.2008 - val_accuracy: 0.9310\n",
            "Epoch 25/50\n",
            "63/63 [==============================] - 31s 500ms/step - loss: 0.0210 - accuracy: 0.9967 - val_loss: 0.2235 - val_accuracy: 0.9230\n",
            "Epoch 26/50\n",
            "63/63 [==============================] - 31s 496ms/step - loss: 0.0178 - accuracy: 0.9974 - val_loss: 0.2188 - val_accuracy: 0.9210\n",
            "Epoch 27/50\n",
            "63/63 [==============================] - 31s 497ms/step - loss: 0.0215 - accuracy: 0.9941 - val_loss: 0.2190 - val_accuracy: 0.9250\n",
            "Epoch 28/50\n",
            "63/63 [==============================] - 31s 497ms/step - loss: 0.0204 - accuracy: 0.9976 - val_loss: 0.2181 - val_accuracy: 0.9280\n",
            "Epoch 29/50\n",
            "63/63 [==============================] - 31s 494ms/step - loss: 0.0177 - accuracy: 0.9944 - val_loss: 0.2163 - val_accuracy: 0.9280\n",
            "Epoch 30/50\n",
            "63/63 [==============================] - 31s 499ms/step - loss: 0.0130 - accuracy: 0.9989 - val_loss: 0.2148 - val_accuracy: 0.9270\n",
            "Epoch 31/50\n",
            "63/63 [==============================] - 31s 496ms/step - loss: 0.0240 - accuracy: 0.9945 - val_loss: 0.2414 - val_accuracy: 0.9250\n",
            "Epoch 32/50\n",
            "63/63 [==============================] - 31s 497ms/step - loss: 0.0542 - accuracy: 0.9773 - val_loss: 0.2094 - val_accuracy: 0.9300\n",
            "Epoch 33/50\n",
            "63/63 [==============================] - 31s 496ms/step - loss: 0.0189 - accuracy: 0.9949 - val_loss: 0.3513 - val_accuracy: 0.8990\n",
            "Epoch 34/50\n",
            "63/63 [==============================] - 31s 496ms/step - loss: 0.0242 - accuracy: 0.9919 - val_loss: 0.2390 - val_accuracy: 0.9240\n",
            "Epoch 35/50\n",
            "63/63 [==============================] - 32s 500ms/step - loss: 0.0151 - accuracy: 0.9966 - val_loss: 0.2453 - val_accuracy: 0.9160\n",
            "Epoch 36/50\n",
            "63/63 [==============================] - 31s 496ms/step - loss: 0.0150 - accuracy: 0.9964 - val_loss: 0.2682 - val_accuracy: 0.9160\n",
            "Epoch 37/50\n",
            "63/63 [==============================] - 31s 496ms/step - loss: 0.0144 - accuracy: 0.9987 - val_loss: 0.2355 - val_accuracy: 0.9200\n",
            "Epoch 38/50\n",
            "63/63 [==============================] - 31s 497ms/step - loss: 0.0168 - accuracy: 0.9963 - val_loss: 0.2413 - val_accuracy: 0.9250\n",
            "Epoch 39/50\n",
            "63/63 [==============================] - 31s 496ms/step - loss: 0.0122 - accuracy: 0.9967 - val_loss: 0.2501 - val_accuracy: 0.9220\n",
            "Epoch 40/50\n",
            "63/63 [==============================] - 31s 496ms/step - loss: 0.0132 - accuracy: 0.9969 - val_loss: 0.2516 - val_accuracy: 0.9200\n",
            "Epoch 41/50\n",
            "63/63 [==============================] - 31s 496ms/step - loss: 0.0165 - accuracy: 0.9961 - val_loss: 0.2490 - val_accuracy: 0.9250\n",
            "Epoch 42/50\n",
            "63/63 [==============================] - 31s 496ms/step - loss: 0.0114 - accuracy: 0.9983 - val_loss: 0.2439 - val_accuracy: 0.9240\n",
            "Epoch 43/50\n",
            "63/63 [==============================] - 31s 498ms/step - loss: 0.0150 - accuracy: 0.9968 - val_loss: 0.2558 - val_accuracy: 0.9230\n",
            "Epoch 44/50\n",
            "63/63 [==============================] - 31s 494ms/step - loss: 0.0073 - accuracy: 0.9994 - val_loss: 0.2599 - val_accuracy: 0.9220\n",
            "Epoch 45/50\n",
            "63/63 [==============================] - 31s 500ms/step - loss: 0.0074 - accuracy: 0.9992 - val_loss: 0.2527 - val_accuracy: 0.9190\n",
            "Epoch 46/50\n",
            "63/63 [==============================] - 31s 496ms/step - loss: 0.0098 - accuracy: 0.9983 - val_loss: 0.2468 - val_accuracy: 0.9250\n",
            "Epoch 47/50\n",
            "63/63 [==============================] - 31s 499ms/step - loss: 0.0109 - accuracy: 0.9967 - val_loss: 0.2539 - val_accuracy: 0.9170\n",
            "Epoch 48/50\n",
            "63/63 [==============================] - 32s 501ms/step - loss: 0.0166 - accuracy: 0.9971 - val_loss: 0.2557 - val_accuracy: 0.9230\n",
            "Epoch 49/50\n",
            "63/63 [==============================] - 32s 502ms/step - loss: 0.0140 - accuracy: 0.9977 - val_loss: 0.2585 - val_accuracy: 0.9220\n",
            "Epoch 50/50\n",
            "63/63 [==============================] - 32s 500ms/step - loss: 0.0160 - accuracy: 0.9926 - val_loss: 0.2507 - val_accuracy: 0.9270\n"
          ],
          "name": "stdout"
        }
      ]
    },
    {
      "cell_type": "code",
      "metadata": {
        "id": "pJEyEGvT_gri"
      },
      "source": [
        "from keras.models import load_model\r\n",
        "model.save('/content/drive/MyDrive/cats_and_dogs_filtered/VGG16.h5')\r\n",
        "model=load_model('/content/drive/MyDrive/cats_and_dogs_filtered/VGG16.h5')\r\n"
      ],
      "execution_count": 23,
      "outputs": []
    },
    {
      "cell_type": "code",
      "metadata": {
        "id": "1u8e9EZqQxlH",
        "colab": {
          "base_uri": "https://localhost:8080/",
          "height": 529
        },
        "outputId": "9cc455f4-b173-4c61-8b1f-2fedab03552b"
      },
      "source": [
        "import matplotlib.pyplot as plt\r\n",
        "plt.plot(r.history['loss'], label='train loss')\r\n",
        "plt.plot(r.history['val_loss'], label='val loss')\r\n",
        "plt.legend()\r\n",
        "plt.show()\r\n",
        "plt.savefig('LossVal_loss')\r\n",
        "\r\n",
        "# plot the accuracy\r\n",
        "plt.plot(r.history['accuracy'], label='train acc')\r\n",
        "plt.plot(r.history['val_accuracy'], label='val acc')\r\n",
        "plt.legend()\r\n",
        "plt.show()\r\n",
        "plt.savefig('AccVal_acc')"
      ],
      "execution_count": 24,
      "outputs": [
        {
          "output_type": "display_data",
          "data": {
            "image/png": "[encoded data removed]",
            "text/plain": [
              "<Figure size 432x288 with 1 Axes>"
            ]
          },
          "metadata": {
            "tags": [],
            "needs_background": "light"
          }
        },
        {
          "output_type": "display_data",
          "data": {
            "image/png": "[encoded data removed]",
            "text/plain": [
              "<Figure size 432x288 with 1 Axes>"
            ]
          },
          "metadata": {
            "tags": [],
            "needs_background": "light"
          }
        },
        {
          "output_type": "display_data",
          "data": {
            "text/plain": [
              "<Figure size 432x288 with 0 Axes>"
            ]
          },
          "metadata": {
            "tags": []
          }
        }
      ]
    },
    {
      "cell_type": "code",
      "metadata": {
        "id": "WD61mmN8Q3Vl"
      },
      "source": [
        "import numpy as np\r\n",
        "from tensorflow.keras.preprocessing import image\r\n",
        "test_image = image.load_img('/content/drive/MyDrive/cats_and_dogs_filtered/cats_and_dogs_filtered/validation/dogs/dog.2002.jpg', \r\n",
        "                            target_size = (224,224))\r\n",
        "test_image = image.img_to_array(test_image)\r\n",
        "test_image=test_image/255\r\n",
        "test_image = np.expand_dims(test_image, axis = 0)\r\n",
        "result = model.predict(test_image)"
      ],
      "execution_count": 26,
      "outputs": []
    },
    {
      "cell_type": "code",
      "metadata": {
        "colab": {
          "base_uri": "https://localhost:8080/"
        },
        "id": "dEMwQvpRLK7C",
        "outputId": "16612b09-d24f-4230-ce9f-221e3ca9b91f"
      },
      "source": [
        "result"
      ],
      "execution_count": 28,
      "outputs": [
        {
          "output_type": "execute_result",
          "data": {
            "text/plain": [
              "array([[0.00229704, 0.997703  ]], dtype=float32)"
            ]
          },
          "metadata": {
            "tags": []
          },
          "execution_count": 28
        }
      ]
    },
    {
      "cell_type": "code",
      "metadata": {
        "id": "ZTxP3eUKSK1F",
        "colab": {
          "base_uri": "https://localhost:8080/"
        },
        "outputId": "c0965a02-d792-458c-f07d-12fcf6168ee2"
      },
      "source": [
        "a=np.argmax(result, axis=1) #returns indices of maximum values\r\n",
        "if a==0:\r\n",
        "  print('The image is classified as Cat')\r\n",
        "else:\r\n",
        "  print('The image is classified as dog')"
      ],
      "execution_count": 29,
      "outputs": [
        {
          "output_type": "stream",
          "text": [
            "The image is classified as dog\n"
          ],
          "name": "stdout"
        }
      ]
    }
  ]
}