{
  "nbformat": 4,
  "nbformat_minor": 0,
  "metadata": {
    "colab": {
      "name": "MNIST_class.ipynb",
      "provenance": [],
      "collapsed_sections": [],
      "authorship_tag": "ABX9TyNHK1NWBelrFtPfLxmXr/PT",
      "include_colab_link": true
    },
    "kernelspec": {
      "name": "python3",
      "display_name": "Python 3"
    },
    "accelerator": "TPU"
  },
  "cells": [
    {
      "cell_type": "markdown",
      "metadata": {
        "id": "view-in-github",
        "colab_type": "text"
      },
      "source": [
        "<a href=\"https://colab.research.google.com/github/dasigiraghu96/Deeplearning_Computer_Vision/blob/main/MNIST_class.ipynb\" target=\"_parent\"><img src=\"https://colab.research.google.com/assets/colab-badge.svg\" alt=\"Open In Colab\"/></a>"
      ]
    },
    {
      "cell_type": "code",
      "metadata": {
        "colab": {
          "base_uri": "https://localhost:8080/"
        },
        "id": "IF-L2Osxs-f5",
        "outputId": "673df9df-5e32-4594-8f75-20f3cc53143e"
      },
      "source": [
        " import tensorflow as tf\r\n",
        " Checklist=['GPU',\"CPU\"]\r\n",
        " for device in Checklist:\r\n",
        "   out=tf.config.list_physical_devices(device)\r\n",
        "   if len(out)>0:\r\n",
        "     print(f\"{device} is available\")\r\n",
        "     print('details\\n',out)\r\n",
        "   else:\r\n",
        "     print(f\"{device} is not available\")"
      ],
      "execution_count": null,
      "outputs": [
        {
          "output_type": "stream",
          "text": [
            "GPU is not available\n",
            "CPU is available\n",
            "details\n",
            " [PhysicalDevice(name='/physical_device:CPU:0', device_type='CPU')]\n"
          ],
          "name": "stdout"
        }
      ]
    },
    {
      "cell_type": "code",
      "metadata": {
        "id": "HuQW2ZMBtwTa",
        "colab": {
          "base_uri": "https://localhost:8080/"
        },
        "outputId": "ca5e6307-fa57-4d05-8e00-2c7d690d0e0c"
      },
      "source": [
        "mnist=tf.keras.datasets.mnist\r\n",
        "(x_train_full,y_train_full),(x_test,y_test)=mnist.load_data()"
      ],
      "execution_count": null,
      "outputs": [
        {
          "output_type": "stream",
          "text": [
            "Downloading data from https://storage.googleapis.com/tensorflow/tf-keras-datasets/mnist.npz\n",
            "11493376/11490434 [==============================] - 0s 0us/step\n"
          ],
          "name": "stdout"
        }
      ]
    },
    {
      "cell_type": "code",
      "metadata": {
        "colab": {
          "base_uri": "https://localhost:8080/"
        },
        "id": "2925bT-tve4-",
        "outputId": "2c095c6e-de9c-4526-c708-42d536678c77"
      },
      "source": [
        "x_train_full.shape"
      ],
      "execution_count": null,
      "outputs": [
        {
          "output_type": "execute_result",
          "data": {
            "text/plain": [
              "(60000, 28, 28)"
            ]
          },
          "metadata": {
            "tags": []
          },
          "execution_count": 7
        }
      ]
    },
    {
      "cell_type": "code",
      "metadata": {
        "colab": {
          "base_uri": "https://localhost:8080/"
        },
        "id": "v0SwsT4bviWT",
        "outputId": "5742be1a-377c-4c35-d323-6c4b3fcf5fff"
      },
      "source": [
        "# 60k, 28x28 matrices\r\n",
        "x_train_full.dtype"
      ],
      "execution_count": null,
      "outputs": [
        {
          "output_type": "execute_result",
          "data": {
            "text/plain": [
              "dtype('uint8')"
            ]
          },
          "metadata": {
            "tags": []
          },
          "execution_count": 8
        }
      ]
    },
    {
      "cell_type": "code",
      "metadata": {
        "colab": {
          "base_uri": "https://localhost:8080/"
        },
        "id": "UUn7u395v2oS",
        "outputId": "a82a521a-3f13-4dfc-f63a-add7f403fd69"
      },
      "source": [
        "x_train_full[0]"
      ],
      "execution_count": null,
      "outputs": [
        {
          "output_type": "execute_result",
          "data": {
            "text/plain": [
              "array([[  0,   0,   0,   0,   0,   0,   0,   0,   0,   0,   0,   0,   0,\n",
              "          0,   0,   0,   0,   0,   0,   0,   0,   0,   0,   0,   0,   0,\n",
              "          0,   0],\n",
              "       [  0,   0,   0,   0,   0,   0,   0,   0,   0,   0,   0,   0,   0,\n",
              "          0,   0,   0,   0,   0,   0,   0,   0,   0,   0,   0,   0,   0,\n",
              "          0,   0],\n",
              "       [  0,   0,   0,   0,   0,   0,   0,   0,   0,   0,   0,   0,   0,\n",
              "          0,   0,   0,   0,   0,   0,   0,   0,   0,   0,   0,   0,   0,\n",
              "          0,   0],\n",
              "       [  0,   0,   0,   0,   0,   0,   0,   0,   0,   0,   0,   0,   0,\n",
              "          0,   0,   0,   0,   0,   0,   0,   0,   0,   0,   0,   0,   0,\n",
              "          0,   0],\n",
              "       [  0,   0,   0,   0,   0,   0,   0,   0,   0,   0,   0,   0,   0,\n",
              "          0,   0,   0,   0,   0,   0,   0,   0,   0,   0,   0,   0,   0,\n",
              "          0,   0],\n",
              "       [  0,   0,   0,   0,   0,   0,   0,   0,   0,   0,   0,   0,   3,\n",
              "         18,  18,  18, 126, 136, 175,  26, 166, 255, 247, 127,   0,   0,\n",
              "          0,   0],\n",
              "       [  0,   0,   0,   0,   0,   0,   0,   0,  30,  36,  94, 154, 170,\n",
              "        253, 253, 253, 253, 253, 225, 172, 253, 242, 195,  64,   0,   0,\n",
              "          0,   0],\n",
              "       [  0,   0,   0,   0,   0,   0,   0,  49, 238, 253, 253, 253, 253,\n",
              "        253, 253, 253, 253, 251,  93,  82,  82,  56,  39,   0,   0,   0,\n",
              "          0,   0],\n",
              "       [  0,   0,   0,   0,   0,   0,   0,  18, 219, 253, 253, 253, 253,\n",
              "        253, 198, 182, 247, 241,   0,   0,   0,   0,   0,   0,   0,   0,\n",
              "          0,   0],\n",
              "       [  0,   0,   0,   0,   0,   0,   0,   0,  80, 156, 107, 253, 253,\n",
              "        205,  11,   0,  43, 154,   0,   0,   0,   0,   0,   0,   0,   0,\n",
              "          0,   0],\n",
              "       [  0,   0,   0,   0,   0,   0,   0,   0,   0,  14,   1, 154, 253,\n",
              "         90,   0,   0,   0,   0,   0,   0,   0,   0,   0,   0,   0,   0,\n",
              "          0,   0],\n",
              "       [  0,   0,   0,   0,   0,   0,   0,   0,   0,   0,   0, 139, 253,\n",
              "        190,   2,   0,   0,   0,   0,   0,   0,   0,   0,   0,   0,   0,\n",
              "          0,   0],\n",
              "       [  0,   0,   0,   0,   0,   0,   0,   0,   0,   0,   0,  11, 190,\n",
              "        253,  70,   0,   0,   0,   0,   0,   0,   0,   0,   0,   0,   0,\n",
              "          0,   0],\n",
              "       [  0,   0,   0,   0,   0,   0,   0,   0,   0,   0,   0,   0,  35,\n",
              "        241, 225, 160, 108,   1,   0,   0,   0,   0,   0,   0,   0,   0,\n",
              "          0,   0],\n",
              "       [  0,   0,   0,   0,   0,   0,   0,   0,   0,   0,   0,   0,   0,\n",
              "         81, 240, 253, 253, 119,  25,   0,   0,   0,   0,   0,   0,   0,\n",
              "          0,   0],\n",
              "       [  0,   0,   0,   0,   0,   0,   0,   0,   0,   0,   0,   0,   0,\n",
              "          0,  45, 186, 253, 253, 150,  27,   0,   0,   0,   0,   0,   0,\n",
              "          0,   0],\n",
              "       [  0,   0,   0,   0,   0,   0,   0,   0,   0,   0,   0,   0,   0,\n",
              "          0,   0,  16,  93, 252, 253, 187,   0,   0,   0,   0,   0,   0,\n",
              "          0,   0],\n",
              "       [  0,   0,   0,   0,   0,   0,   0,   0,   0,   0,   0,   0,   0,\n",
              "          0,   0,   0,   0, 249, 253, 249,  64,   0,   0,   0,   0,   0,\n",
              "          0,   0],\n",
              "       [  0,   0,   0,   0,   0,   0,   0,   0,   0,   0,   0,   0,   0,\n",
              "          0,  46, 130, 183, 253, 253, 207,   2,   0,   0,   0,   0,   0,\n",
              "          0,   0],\n",
              "       [  0,   0,   0,   0,   0,   0,   0,   0,   0,   0,   0,   0,  39,\n",
              "        148, 229, 253, 253, 253, 250, 182,   0,   0,   0,   0,   0,   0,\n",
              "          0,   0],\n",
              "       [  0,   0,   0,   0,   0,   0,   0,   0,   0,   0,  24, 114, 221,\n",
              "        253, 253, 253, 253, 201,  78,   0,   0,   0,   0,   0,   0,   0,\n",
              "          0,   0],\n",
              "       [  0,   0,   0,   0,   0,   0,   0,   0,  23,  66, 213, 253, 253,\n",
              "        253, 253, 198,  81,   2,   0,   0,   0,   0,   0,   0,   0,   0,\n",
              "          0,   0],\n",
              "       [  0,   0,   0,   0,   0,   0,  18, 171, 219, 253, 253, 253, 253,\n",
              "        195,  80,   9,   0,   0,   0,   0,   0,   0,   0,   0,   0,   0,\n",
              "          0,   0],\n",
              "       [  0,   0,   0,   0,  55, 172, 226, 253, 253, 253, 253, 244, 133,\n",
              "         11,   0,   0,   0,   0,   0,   0,   0,   0,   0,   0,   0,   0,\n",
              "          0,   0],\n",
              "       [  0,   0,   0,   0, 136, 253, 253, 253, 212, 135, 132,  16,   0,\n",
              "          0,   0,   0,   0,   0,   0,   0,   0,   0,   0,   0,   0,   0,\n",
              "          0,   0],\n",
              "       [  0,   0,   0,   0,   0,   0,   0,   0,   0,   0,   0,   0,   0,\n",
              "          0,   0,   0,   0,   0,   0,   0,   0,   0,   0,   0,   0,   0,\n",
              "          0,   0],\n",
              "       [  0,   0,   0,   0,   0,   0,   0,   0,   0,   0,   0,   0,   0,\n",
              "          0,   0,   0,   0,   0,   0,   0,   0,   0,   0,   0,   0,   0,\n",
              "          0,   0],\n",
              "       [  0,   0,   0,   0,   0,   0,   0,   0,   0,   0,   0,   0,   0,\n",
              "          0,   0,   0,   0,   0,   0,   0,   0,   0,   0,   0,   0,   0,\n",
              "          0,   0]], dtype=uint8)"
            ]
          },
          "metadata": {
            "tags": []
          },
          "execution_count": 9
        }
      ]
    },
    {
      "cell_type": "code",
      "metadata": {
        "colab": {
          "base_uri": "https://localhost:8080/"
        },
        "id": "LcTuqjFawLSD",
        "outputId": "a8af5318-e16e-40e0-ce40-907257631074"
      },
      "source": [
        "import matplotlib.pyplot as plt\r\n",
        "import seaborn as sns\r\n",
        "x_valid,x_train=x_train_full[:5000]/255,x_train_full[5000:]/255\r\n",
        "y_valid,y_train=y_train_full[:5000],y_train_full[5000:]\r\n",
        "x_test=x_test/255\r\n",
        "#255 is lat pixel value in RGB\r\n",
        "print(x_valid.shape,x_train.shape)\r\n",
        "print(y_valid.shape,y_train.shape)"
      ],
      "execution_count": null,
      "outputs": [
        {
          "output_type": "stream",
          "text": [
            "(5000, 28, 28) (55000, 28, 28)\n",
            "(5000,) (55000,)\n"
          ],
          "name": "stdout"
        }
      ]
    },
    {
      "cell_type": "code",
      "metadata": {
        "colab": {
          "base_uri": "https://localhost:8080/",
          "height": 282
        },
        "id": "MtSMgRo-4J3w",
        "outputId": "e1fe6e39-c8c5-4d08-a53c-4664c7e22709"
      },
      "source": [
        "plt.imshow(x_valid[0],cmap='binary')"
      ],
      "execution_count": null,
      "outputs": [
        {
          "output_type": "execute_result",
          "data": {
            "text/plain": [
              "<matplotlib.image.AxesImage at 0x7fbf33893910>"
            ]
          },
          "metadata": {
            "tags": []
          },
          "execution_count": 11
        },
        {
          "output_type": "display_data",
          "data": {
            "image/png": "[encoded data removed]",
            "text/plain": [
              "<Figure size 432x288 with 1 Axes>"
            ]
          },
          "metadata": {
            "tags": [],
            "needs_background": "light"
          }
        }
      ]
    },
    {
      "cell_type": "code",
      "metadata": {
        "colab": {
          "base_uri": "https://localhost:8080/",
          "height": 1000
        },
        "id": "C-ewz56-4c7h",
        "outputId": "cf052593-a494-480e-e262-d027b0916f07"
      },
      "source": [
        "plt.figure(figsize=(20,20))\r\n",
        "sns.heatmap(x_valid[0],annot=True,cmap='binary')"
      ],
      "execution_count": null,
      "outputs": [
        {
          "output_type": "execute_result",
          "data": {
            "text/plain": [
              "<matplotlib.axes._subplots.AxesSubplot at 0x7fbf33fd3590>"
            ]
          },
          "metadata": {
            "tags": []
          },
          "execution_count": 12
        },
        {
          "output_type": "display_data",
          "data": {
            "image/png": "[encoded data removed]",
            "text/plain": [
              "<Figure size 1440x1440 with 2 Axes>"
            ]
          },
          "metadata": {
            "tags": [],
            "needs_background": "light"
          }
        }
      ]
    },
    {
      "cell_type": "code",
      "metadata": {
        "id": "ZGddNti14rHq"
      },
      "source": [
        "layers=[tf.keras.layers.Flatten(input_shape=[28,28],name='input_layer'),\r\n",
        "        tf.keras.layers.Dense(300,activation='relu',name='hiddenlayer1'),\r\n",
        "        tf.keras.layers.Dense(100,activation='relu',name='hiddenlayer2'),\r\n",
        "        tf.keras.layers.Dense(10,activation='softmax',name='outputlayer')]\r\n",
        "model_clf=tf.keras.models.Sequential(layers)"
      ],
      "execution_count": null,
      "outputs": []
    },
    {
      "cell_type": "code",
      "metadata": {
        "colab": {
          "base_uri": "https://localhost:8080/"
        },
        "id": "leGfXKP27koC",
        "outputId": "1c77a9dc-a9dc-48f2-c55a-c50aa95df61e"
      },
      "source": [
        " model_clf.layers"
      ],
      "execution_count": null,
      "outputs": [
        {
          "output_type": "execute_result",
          "data": {
            "text/plain": [
              "[<tensorflow.python.keras.layers.core.Flatten at 0x7fbf2a448090>,\n",
              " <tensorflow.python.keras.layers.core.Dense at 0x7fbf33844150>,\n",
              " <tensorflow.python.keras.layers.core.Dense at 0x7fbf2a2e84d0>,\n",
              " <tensorflow.python.keras.layers.core.Dense at 0x7fbf2a2e8990>]"
            ]
          },
          "metadata": {
            "tags": []
          },
          "execution_count": 14
        }
      ]
    },
    {
      "cell_type": "code",
      "metadata": {
        "colab": {
          "base_uri": "https://localhost:8080/"
        },
        "id": "Oqclbzaw90-6",
        "outputId": "a90fb2ae-bef0-4163-acdf-9b8215957b82"
      },
      "source": [
        "model_clf.summary()"
      ],
      "execution_count": null,
      "outputs": [
        {
          "output_type": "stream",
          "text": [
            "Model: \"sequential\"\n",
            "_________________________________________________________________\n",
            "Layer (type)                 Output Shape              Param #   \n",
            "=================================================================\n",
            "input_layer (Flatten)        (None, 784)               0         \n",
            "_________________________________________________________________\n",
            "hiddenlayer1 (Dense)         (None, 300)               235500    \n",
            "_________________________________________________________________\n",
            "hiddenlayer2 (Dense)         (None, 100)               30100     \n",
            "_________________________________________________________________\n",
            "outputlayer (Dense)          (None, 10)                1010      \n",
            "=================================================================\n",
            "Total params: 266,610\n",
            "Trainable params: 266,610\n",
            "Non-trainable params: 0\n",
            "_________________________________________________________________\n"
          ],
          "name": "stdout"
        }
      ]
    },
    {
      "cell_type": "code",
      "metadata": {
        "id": "qTctZ6_aBDYg"
      },
      "source": [
        "#calculation of trainable params\r\n",
        "#28*28=784(ip) flattening\r\n",
        "#784(ip)*300(w)+300(b)\r\n",
        "#300*100+100\r\n",
        "#100*10+10"
      ],
      "execution_count": null,
      "outputs": []
    },
    {
      "cell_type": "code",
      "metadata": {
        "id": "hSumHaLuB6FY"
      },
      "source": [
        "hidden1=model_clf.layers[1]"
      ],
      "execution_count": null,
      "outputs": []
    },
    {
      "cell_type": "code",
      "metadata": {
        "id": "5Xk5kAIN_YEW"
      },
      "source": [
        "def model_clf2(activation,loss,optimizer):\r\n",
        "  import tensorflow as tf\r\n",
        "  model_clf2=tf.keras.models.Sequential([tf.keras.layers.Flatten(input_shape=[28,28],name='input_layer'),\r\n",
        "        tf.keras.layers.Dense(300,activation=activation,name='hiddenlayer1'),\r\n",
        "        tf.keras.layers.Dense(100,activation=activation,name='hiddenlayer2'),\r\n",
        "        tf.keras.layers.Dense(10,activation='softmax',name='outputlayer')])\r\n",
        "  model_clf2.compile(loss=loss,\r\n",
        "              optimizer=optimizer,\r\n",
        "              metrics='accuracy')\r\n",
        "  epochs=30\r\n",
        "  validation_set=(x_valid,y_valid)\r\n",
        "  early_stopping_cb = tf.keras.callbacks.EarlyStopping(patience=10,\r\n",
        "                                                  restore_best_weights=True)\r\n",
        "  history=model_clf2.fit(x_train,y_train,epochs=100,validation_data=validation_set,\r\n",
        "                         callbacks=[early_stopping_cb])\r\n",
        "  import pandas as pd\r\n",
        "  table=pd.DataFrame(history.history)\r\n",
        "  evaluation=model_clf2.evaluate(x_test,y_test)\r\n",
        "  return table,evaluation\r\n",
        "  "
      ],
      "execution_count": null,
      "outputs": []
    },
    {
      "cell_type": "code",
      "metadata": {
        "colab": {
          "base_uri": "https://localhost:8080/"
        },
        "id": "UPM29duCCMJ-",
        "outputId": "20dbdb77-8233-421c-a4ea-f7fde58d4a03"
      },
      "source": [
        "model_clf2('sigmoid',tf.keras.losses.SparseCategoricalCrossentropy(),tf.keras.optimizers.SGD(learning_rate=0.1, momentum=0.9))"
      ],
      "execution_count": null,
      "outputs": [
        {
          "output_type": "stream",
          "text": [
            "Epoch 1/100\n",
            "1719/1719 [==============================] - 7s 4ms/step - loss: 0.7282 - accuracy: 0.7598 - val_loss: 0.1733 - val_accuracy: 0.9500\n",
            "Epoch 2/100\n",
            "1719/1719 [==============================] - 6s 3ms/step - loss: 0.1620 - accuracy: 0.9500 - val_loss: 0.1228 - val_accuracy: 0.9638\n",
            "Epoch 3/100\n",
            "1719/1719 [==============================] - 6s 4ms/step - loss: 0.1061 - accuracy: 0.9679 - val_loss: 0.0891 - val_accuracy: 0.9724\n",
            "Epoch 4/100\n",
            "1719/1719 [==============================] - 7s 4ms/step - loss: 0.0789 - accuracy: 0.9750 - val_loss: 0.0776 - val_accuracy: 0.9772\n",
            "Epoch 5/100\n",
            "1719/1719 [==============================] - 6s 4ms/step - loss: 0.0585 - accuracy: 0.9827 - val_loss: 0.0748 - val_accuracy: 0.9802\n",
            "Epoch 6/100\n",
            "1719/1719 [==============================] - 6s 4ms/step - loss: 0.0451 - accuracy: 0.9855 - val_loss: 0.0686 - val_accuracy: 0.9810\n",
            "Epoch 7/100\n",
            "1719/1719 [==============================] - 6s 3ms/step - loss: 0.0355 - accuracy: 0.9884 - val_loss: 0.0724 - val_accuracy: 0.9794\n",
            "Epoch 8/100\n",
            "1719/1719 [==============================] - 5s 3ms/step - loss: 0.0283 - accuracy: 0.9915 - val_loss: 0.0616 - val_accuracy: 0.9828\n",
            "Epoch 9/100\n",
            "1719/1719 [==============================] - 5s 3ms/step - loss: 0.0186 - accuracy: 0.9942 - val_loss: 0.0709 - val_accuracy: 0.9810\n",
            "Epoch 10/100\n",
            "1719/1719 [==============================] - 6s 3ms/step - loss: 0.0178 - accuracy: 0.9951 - val_loss: 0.0655 - val_accuracy: 0.9834\n",
            "Epoch 11/100\n",
            "1719/1719 [==============================] - 6s 3ms/step - loss: 0.0126 - accuracy: 0.9965 - val_loss: 0.0635 - val_accuracy: 0.9842\n",
            "Epoch 12/100\n",
            "1719/1719 [==============================] - 6s 3ms/step - loss: 0.0088 - accuracy: 0.9980 - val_loss: 0.0638 - val_accuracy: 0.9834\n",
            "Epoch 13/100\n",
            "1719/1719 [==============================] - 6s 3ms/step - loss: 0.0051 - accuracy: 0.9991 - val_loss: 0.0685 - val_accuracy: 0.9832\n",
            "Epoch 14/100\n",
            "1719/1719 [==============================] - 6s 3ms/step - loss: 0.0045 - accuracy: 0.9994 - val_loss: 0.0659 - val_accuracy: 0.9846\n",
            "Epoch 15/100\n",
            "1719/1719 [==============================] - 6s 3ms/step - loss: 0.0030 - accuracy: 0.9997 - val_loss: 0.0693 - val_accuracy: 0.9836\n",
            "Epoch 16/100\n",
            "1719/1719 [==============================] - 5s 3ms/step - loss: 0.0023 - accuracy: 0.9998 - val_loss: 0.0662 - val_accuracy: 0.9846\n",
            "Epoch 17/100\n",
            "1719/1719 [==============================] - 5s 3ms/step - loss: 0.0016 - accuracy: 0.9999 - val_loss: 0.0672 - val_accuracy: 0.9848\n",
            "Epoch 18/100\n",
            "1719/1719 [==============================] - 6s 3ms/step - loss: 0.0014 - accuracy: 1.0000 - val_loss: 0.0661 - val_accuracy: 0.9850\n",
            "313/313 [==============================] - 1s 2ms/step - loss: 0.0674 - accuracy: 0.9796\n"
          ],
          "name": "stdout"
        },
        {
          "output_type": "execute_result",
          "data": {
            "text/plain": [
              "(        loss  accuracy  val_loss  val_accuracy\n",
              " 0   0.393445  0.876018  0.173268        0.9500\n",
              " 1   0.150894  0.953909  0.122760        0.9638\n",
              " 2   0.101861  0.969000  0.089143        0.9724\n",
              " 3   0.076274  0.976309  0.077643        0.9772\n",
              " 4   0.059186  0.981945  0.074847        0.9802\n",
              " 5   0.046473  0.985345  0.068632        0.9810\n",
              " 6   0.035957  0.988473  0.072401        0.9794\n",
              " 7   0.028206  0.991036  0.061609        0.9828\n",
              " 8   0.020929  0.993545  0.070941        0.9810\n",
              " 9   0.017973  0.994600  0.065464        0.9834\n",
              " 10  0.012494  0.996545  0.063488        0.9842\n",
              " 11  0.009287  0.997491  0.063789        0.9834\n",
              " 12  0.006129  0.998782  0.068506        0.9832\n",
              " 13  0.004997  0.999000  0.065919        0.9846\n",
              " 14  0.003201  0.999564  0.069254        0.9836\n",
              " 15  0.002203  0.999764  0.066214        0.9846\n",
              " 16  0.001656  0.999873  0.067201        0.9848\n",
              " 17  0.001255  0.999945  0.066085        0.9850,\n",
              " [0.06744758784770966, 0.9796000123023987])"
            ]
          },
          "metadata": {
            "tags": []
          },
          "execution_count": 19
        }
      ]
    },
    {
      "cell_type": "code",
      "metadata": {
        "colab": {
          "base_uri": "https://localhost:8080/",
          "height": 35
        },
        "id": "MaH2aY_sCaRo",
        "outputId": "5d61985b-d35a-43a6-96f7-127e85b01a3f"
      },
      "source": [
        "hidden1.name"
      ],
      "execution_count": null,
      "outputs": [
        {
          "output_type": "execute_result",
          "data": {
            "application/vnd.google.colaboratory.intrinsic+json": {
              "type": "string"
            },
            "text/plain": [
              "'hiddenlayer1'"
            ]
          },
          "metadata": {
            "tags": []
          },
          "execution_count": 39
        }
      ]
    },
    {
      "cell_type": "code",
      "metadata": {
        "colab": {
          "base_uri": "https://localhost:8080/"
        },
        "id": "aiIlf8fCCohI",
        "outputId": "14c298e1-922c-4a4d-f6c4-3c7ce4301fa8"
      },
      "source": [
        "hidden1.get_weights()"
      ],
      "execution_count": null,
      "outputs": [
        {
          "output_type": "execute_result",
          "data": {
            "text/plain": [
              "[array([[-0.02655105,  0.00561462, -0.00552233, ...,  0.0305851 ,\n",
              "         -0.06118286,  0.04266071],\n",
              "        [ 0.02282207, -0.00321171, -0.06356323, ..., -0.01000101,\n",
              "          0.04756714, -0.03616413],\n",
              "        [ 0.01909109,  0.05730808, -0.05524896, ..., -0.02074946,\n",
              "          0.0107844 , -0.05753925],\n",
              "        ...,\n",
              "        [-0.05421172,  0.05887979,  0.04534431, ..., -0.06689282,\n",
              "          0.0304977 ,  0.01143178],\n",
              "        [ 0.01498488, -0.00519079,  0.0618211 , ...,  0.01934042,\n",
              "          0.00837525,  0.04265076],\n",
              "        [-0.05610863, -0.0494208 , -0.06152479, ...,  0.0664738 ,\n",
              "          0.01790727, -0.06828576]], dtype=float32),\n",
              " array([0., 0., 0., 0., 0., 0., 0., 0., 0., 0., 0., 0., 0., 0., 0., 0., 0.,\n",
              "        0., 0., 0., 0., 0., 0., 0., 0., 0., 0., 0., 0., 0., 0., 0., 0., 0.,\n",
              "        0., 0., 0., 0., 0., 0., 0., 0., 0., 0., 0., 0., 0., 0., 0., 0., 0.,\n",
              "        0., 0., 0., 0., 0., 0., 0., 0., 0., 0., 0., 0., 0., 0., 0., 0., 0.,\n",
              "        0., 0., 0., 0., 0., 0., 0., 0., 0., 0., 0., 0., 0., 0., 0., 0., 0.,\n",
              "        0., 0., 0., 0., 0., 0., 0., 0., 0., 0., 0., 0., 0., 0., 0., 0., 0.,\n",
              "        0., 0., 0., 0., 0., 0., 0., 0., 0., 0., 0., 0., 0., 0., 0., 0., 0.,\n",
              "        0., 0., 0., 0., 0., 0., 0., 0., 0., 0., 0., 0., 0., 0., 0., 0., 0.,\n",
              "        0., 0., 0., 0., 0., 0., 0., 0., 0., 0., 0., 0., 0., 0., 0., 0., 0.,\n",
              "        0., 0., 0., 0., 0., 0., 0., 0., 0., 0., 0., 0., 0., 0., 0., 0., 0.,\n",
              "        0., 0., 0., 0., 0., 0., 0., 0., 0., 0., 0., 0., 0., 0., 0., 0., 0.,\n",
              "        0., 0., 0., 0., 0., 0., 0., 0., 0., 0., 0., 0., 0., 0., 0., 0., 0.,\n",
              "        0., 0., 0., 0., 0., 0., 0., 0., 0., 0., 0., 0., 0., 0., 0., 0., 0.,\n",
              "        0., 0., 0., 0., 0., 0., 0., 0., 0., 0., 0., 0., 0., 0., 0., 0., 0.,\n",
              "        0., 0., 0., 0., 0., 0., 0., 0., 0., 0., 0., 0., 0., 0., 0., 0., 0.,\n",
              "        0., 0., 0., 0., 0., 0., 0., 0., 0., 0., 0., 0., 0., 0., 0., 0., 0.,\n",
              "        0., 0., 0., 0., 0., 0., 0., 0., 0., 0., 0., 0., 0., 0., 0., 0., 0.,\n",
              "        0., 0., 0., 0., 0., 0., 0., 0., 0., 0., 0.], dtype=float32)]"
            ]
          },
          "metadata": {
            "tags": []
          },
          "execution_count": 40
        }
      ]
    },
    {
      "cell_type": "code",
      "metadata": {
        "colab": {
          "base_uri": "https://localhost:8080/"
        },
        "id": "m9PBc035CvKJ",
        "outputId": "5f75655f-6c98-4c7a-ad05-a0e1578906b2"
      },
      "source": [
        "weights,biases=hidden1.get_weights()\r\n",
        "weights.shape"
      ],
      "execution_count": null,
      "outputs": [
        {
          "output_type": "execute_result",
          "data": {
            "text/plain": [
              "(784, 300)"
            ]
          },
          "metadata": {
            "tags": []
          },
          "execution_count": 41
        }
      ]
    },
    {
      "cell_type": "code",
      "metadata": {
        "id": "kSHfVACMDTjX"
      },
      "source": [
        "LOSS_FUNCTION = \"sparse_categorical_crossentropy\" # use => tf.losses.sparse_categorical_crossentropy\r\n",
        "OPTIMIZER = \"SGD\" # or use with custom learning rate=> tf.keras.optimizers.SGD(0.02)\r\n",
        "METRICS = [\"accuracy\"]\r\n",
        "\r\n",
        "model_clf.compile(loss=LOSS_FUNCTION,\r\n",
        "              optimizer=OPTIMIZER,\r\n",
        "              metrics=METRICS)"
      ],
      "execution_count": null,
      "outputs": []
    },
    {
      "cell_type": "code",
      "metadata": {
        "colab": {
          "base_uri": "https://localhost:8080/"
        },
        "id": "I_3n9V7kEz4O",
        "outputId": "5b7a9278-7b9c-4af1-f892-a299151528b7"
      },
      "source": [
        "epochs=30\r\n",
        "validation_set=(x_valid,y_valid)\r\n",
        "history=model_clf.fit(x_train,y_train,epochs=epochs,validation_data=validation_set)"
      ],
      "execution_count": null,
      "outputs": [
        {
          "output_type": "stream",
          "text": [
            "Epoch 1/30\n",
            "1719/1719 [==============================] - 4s 2ms/step - loss: 0.9962 - accuracy: 0.7436 - val_loss: 0.3150 - val_accuracy: 0.9110\n",
            "Epoch 2/30\n",
            "1719/1719 [==============================] - 3s 2ms/step - loss: 0.3128 - accuracy: 0.9104 - val_loss: 0.2465 - val_accuracy: 0.9322\n",
            "Epoch 3/30\n",
            "1719/1719 [==============================] - 4s 2ms/step - loss: 0.2494 - accuracy: 0.9273 - val_loss: 0.2060 - val_accuracy: 0.9414\n",
            "Epoch 4/30\n",
            "1719/1719 [==============================] - 4s 2ms/step - loss: 0.2099 - accuracy: 0.9404 - val_loss: 0.1797 - val_accuracy: 0.9498\n",
            "Epoch 5/30\n",
            "1719/1719 [==============================] - 4s 2ms/step - loss: 0.1822 - accuracy: 0.9475 - val_loss: 0.1616 - val_accuracy: 0.9552\n",
            "Epoch 6/30\n",
            "1719/1719 [==============================] - 4s 2ms/step - loss: 0.1596 - accuracy: 0.9542 - val_loss: 0.1442 - val_accuracy: 0.9612\n",
            "Epoch 7/30\n",
            "1719/1719 [==============================] - 3s 2ms/step - loss: 0.1441 - accuracy: 0.9588 - val_loss: 0.1343 - val_accuracy: 0.9614\n",
            "Epoch 8/30\n",
            "1719/1719 [==============================] - 4s 2ms/step - loss: 0.1260 - accuracy: 0.9642 - val_loss: 0.1267 - val_accuracy: 0.9664\n",
            "Epoch 9/30\n",
            "1719/1719 [==============================] - 4s 2ms/step - loss: 0.1154 - accuracy: 0.9683 - val_loss: 0.1180 - val_accuracy: 0.9656\n",
            "Epoch 10/30\n",
            "1719/1719 [==============================] - 4s 2ms/step - loss: 0.1109 - accuracy: 0.9686 - val_loss: 0.1107 - val_accuracy: 0.9694\n",
            "Epoch 11/30\n",
            "1719/1719 [==============================] - 4s 2ms/step - loss: 0.0967 - accuracy: 0.9724 - val_loss: 0.1044 - val_accuracy: 0.9710\n",
            "Epoch 12/30\n",
            "1719/1719 [==============================] - 4s 2ms/step - loss: 0.0898 - accuracy: 0.9749 - val_loss: 0.0983 - val_accuracy: 0.9722\n",
            "Epoch 13/30\n",
            "1719/1719 [==============================] - 4s 2ms/step - loss: 0.0827 - accuracy: 0.9765 - val_loss: 0.0930 - val_accuracy: 0.9748\n",
            "Epoch 14/30\n",
            "1719/1719 [==============================] - 4s 2ms/step - loss: 0.0803 - accuracy: 0.9774 - val_loss: 0.0899 - val_accuracy: 0.9752\n",
            "Epoch 15/30\n",
            "1719/1719 [==============================] - 4s 2ms/step - loss: 0.0699 - accuracy: 0.9801 - val_loss: 0.0872 - val_accuracy: 0.9746\n",
            "Epoch 16/30\n",
            "1719/1719 [==============================] - 4s 2ms/step - loss: 0.0683 - accuracy: 0.9817 - val_loss: 0.0842 - val_accuracy: 0.9742\n",
            "Epoch 17/30\n",
            "1719/1719 [==============================] - 4s 2ms/step - loss: 0.0638 - accuracy: 0.9827 - val_loss: 0.0841 - val_accuracy: 0.9756\n",
            "Epoch 18/30\n",
            "1719/1719 [==============================] - 4s 2ms/step - loss: 0.0573 - accuracy: 0.9850 - val_loss: 0.0778 - val_accuracy: 0.9778\n",
            "Epoch 19/30\n",
            "1719/1719 [==============================] - 4s 2ms/step - loss: 0.0539 - accuracy: 0.9860 - val_loss: 0.0751 - val_accuracy: 0.9784\n",
            "Epoch 20/30\n",
            "1719/1719 [==============================] - 4s 2ms/step - loss: 0.0511 - accuracy: 0.9866 - val_loss: 0.0727 - val_accuracy: 0.9794\n",
            "Epoch 21/30\n",
            "1719/1719 [==============================] - 4s 2ms/step - loss: 0.0471 - accuracy: 0.9871 - val_loss: 0.0739 - val_accuracy: 0.9790\n",
            "Epoch 22/30\n",
            "1719/1719 [==============================] - 4s 2ms/step - loss: 0.0442 - accuracy: 0.9894 - val_loss: 0.0708 - val_accuracy: 0.9800\n",
            "Epoch 23/30\n",
            "1719/1719 [==============================] - 4s 2ms/step - loss: 0.0413 - accuracy: 0.9892 - val_loss: 0.0702 - val_accuracy: 0.9790\n",
            "Epoch 24/30\n",
            "1719/1719 [==============================] - 4s 2ms/step - loss: 0.0393 - accuracy: 0.9894 - val_loss: 0.0686 - val_accuracy: 0.9796\n",
            "Epoch 25/30\n",
            "1719/1719 [==============================] - 4s 2ms/step - loss: 0.0356 - accuracy: 0.9914 - val_loss: 0.0684 - val_accuracy: 0.9788\n",
            "Epoch 26/30\n",
            "1719/1719 [==============================] - 4s 2ms/step - loss: 0.0334 - accuracy: 0.9913 - val_loss: 0.0675 - val_accuracy: 0.9800\n",
            "Epoch 27/30\n",
            "1719/1719 [==============================] - 4s 2ms/step - loss: 0.0328 - accuracy: 0.9921 - val_loss: 0.0687 - val_accuracy: 0.9792\n",
            "Epoch 28/30\n",
            "1719/1719 [==============================] - 4s 2ms/step - loss: 0.0320 - accuracy: 0.9925 - val_loss: 0.0669 - val_accuracy: 0.9792\n",
            "Epoch 29/30\n",
            "1719/1719 [==============================] - 4s 2ms/step - loss: 0.0285 - accuracy: 0.9942 - val_loss: 0.0662 - val_accuracy: 0.9792\n",
            "Epoch 30/30\n",
            "1719/1719 [==============================] - 4s 2ms/step - loss: 0.0271 - accuracy: 0.9946 - val_loss: 0.0652 - val_accuracy: 0.9796\n"
          ],
          "name": "stdout"
        }
      ]
    },
    {
      "cell_type": "code",
      "metadata": {
        "id": "I1R9cRhjFv2Y"
      },
      "source": [
        "import time\r\n",
        "import os\r\n",
        "def saveModel_path(model_dir=\"SAVED_MODELS\"):\r\n",
        "    os.makedirs(model_dir, exist_ok=True)\r\n",
        "    fileName = time.strftime(\"Model_%Y_%m_%d_%H_%M_%S_.h5\")    \r\n",
        "    model_path = os.path.join(model_dir, fileName)\r\n",
        "    print(f\"your model will be saved at the following location\\n{model_path}\")\r\n",
        "    return model_path"
      ],
      "execution_count": null,
      "outputs": []
    },
    {
      "cell_type": "code",
      "metadata": {
        "colab": {
          "base_uri": "https://localhost:8080/"
        },
        "id": "kgAUG6yAM_Ty",
        "outputId": "71cb2248-1165-40ea-f0ef-f7955e4fad0d"
      },
      "source": [
        "UNIQUE_PATH = model_clf.save(saveModel_path())"
      ],
      "execution_count": null,
      "outputs": [
        {
          "output_type": "stream",
          "text": [
            "your model will be saved at the following location\n",
            "SAVED_MODELS/Model_2021_03_06_17_07_16_.h5\n"
          ],
          "name": "stdout"
        }
      ]
    },
    {
      "cell_type": "code",
      "metadata": {
        "colab": {
          "base_uri": "https://localhost:8080/"
        },
        "id": "eNf2zOjxRNlY",
        "outputId": "d5af7b0e-c71f-4d2e-b45b-4de05e543d25"
      },
      "source": [
        "history.params"
      ],
      "execution_count": null,
      "outputs": [
        {
          "output_type": "execute_result",
          "data": {
            "text/plain": [
              "{'epochs': 30, 'steps': 1719, 'verbose': 1}"
            ]
          },
          "metadata": {
            "tags": []
          },
          "execution_count": 46
        }
      ]
    },
    {
      "cell_type": "code",
      "metadata": {
        "id": "OxQvQFhARSrd"
      },
      "source": [
        "#batcsize=32;55000/32=1719"
      ],
      "execution_count": null,
      "outputs": []
    },
    {
      "cell_type": "code",
      "metadata": {
        "colab": {
          "base_uri": "https://localhost:8080/",
          "height": 935
        },
        "id": "SCpgFpK0Rj9I",
        "outputId": "fb4d47c0-8a51-46e5-871b-690787dfa9d9"
      },
      "source": [
        "import pandas as pd\r\n",
        "pd.DataFrame(history.history)"
      ],
      "execution_count": null,
      "outputs": [
        {
          "output_type": "execute_result",
          "data": {
            "text/html": [
              "<div>\n",
              "<style scoped>\n",
              "    .dataframe tbody tr th:only-of-type {\n",
              "        vertical-align: middle;\n",
              "    }\n",
              "\n",
              "    .dataframe tbody tr th {\n",
              "        vertical-align: top;\n",
              "    }\n",
              "\n",
              "    .dataframe thead th {\n",
              "        text-align: right;\n",
              "    }\n",
              "</style>\n",
              "<table border=\"1\" class=\"dataframe\">\n",
              "  <thead>\n",
              "    <tr style=\"text-align: right;\">\n",
              "      <th></th>\n",
              "      <th>loss</th>\n",
              "      <th>accuracy</th>\n",
              "      <th>val_loss</th>\n",
              "      <th>val_accuracy</th>\n",
              "    </tr>\n",
              "  </thead>\n",
              "  <tbody>\n",
              "    <tr>\n",
              "      <th>0</th>\n",
              "      <td>0.601801</td>\n",
              "      <td>0.845327</td>\n",
              "      <td>0.315016</td>\n",
              "      <td>0.9110</td>\n",
              "    </tr>\n",
              "    <tr>\n",
              "      <th>1</th>\n",
              "      <td>0.294951</td>\n",
              "      <td>0.915600</td>\n",
              "      <td>0.246529</td>\n",
              "      <td>0.9322</td>\n",
              "    </tr>\n",
              "    <tr>\n",
              "      <th>2</th>\n",
              "      <td>0.241576</td>\n",
              "      <td>0.930527</td>\n",
              "      <td>0.206039</td>\n",
              "      <td>0.9414</td>\n",
              "    </tr>\n",
              "    <tr>\n",
              "      <th>3</th>\n",
              "      <td>0.206085</td>\n",
              "      <td>0.941400</td>\n",
              "      <td>0.179747</td>\n",
              "      <td>0.9498</td>\n",
              "    </tr>\n",
              "    <tr>\n",
              "      <th>4</th>\n",
              "      <td>0.179434</td>\n",
              "      <td>0.948655</td>\n",
              "      <td>0.161614</td>\n",
              "      <td>0.9552</td>\n",
              "    </tr>\n",
              "    <tr>\n",
              "      <th>5</th>\n",
              "      <td>0.159117</td>\n",
              "      <td>0.954582</td>\n",
              "      <td>0.144155</td>\n",
              "      <td>0.9612</td>\n",
              "    </tr>\n",
              "    <tr>\n",
              "      <th>6</th>\n",
              "      <td>0.142144</td>\n",
              "      <td>0.959491</td>\n",
              "      <td>0.134280</td>\n",
              "      <td>0.9614</td>\n",
              "    </tr>\n",
              "    <tr>\n",
              "      <th>7</th>\n",
              "      <td>0.127922</td>\n",
              "      <td>0.963782</td>\n",
              "      <td>0.126730</td>\n",
              "      <td>0.9664</td>\n",
              "    </tr>\n",
              "    <tr>\n",
              "      <th>8</th>\n",
              "      <td>0.116468</td>\n",
              "      <td>0.967236</td>\n",
              "      <td>0.117970</td>\n",
              "      <td>0.9656</td>\n",
              "    </tr>\n",
              "    <tr>\n",
              "      <th>9</th>\n",
              "      <td>0.106162</td>\n",
              "      <td>0.969873</td>\n",
              "      <td>0.110704</td>\n",
              "      <td>0.9694</td>\n",
              "    </tr>\n",
              "    <tr>\n",
              "      <th>10</th>\n",
              "      <td>0.097404</td>\n",
              "      <td>0.972909</td>\n",
              "      <td>0.104374</td>\n",
              "      <td>0.9710</td>\n",
              "    </tr>\n",
              "    <tr>\n",
              "      <th>11</th>\n",
              "      <td>0.089791</td>\n",
              "      <td>0.975255</td>\n",
              "      <td>0.098261</td>\n",
              "      <td>0.9722</td>\n",
              "    </tr>\n",
              "    <tr>\n",
              "      <th>12</th>\n",
              "      <td>0.083218</td>\n",
              "      <td>0.977145</td>\n",
              "      <td>0.093013</td>\n",
              "      <td>0.9748</td>\n",
              "    </tr>\n",
              "    <tr>\n",
              "      <th>13</th>\n",
              "      <td>0.076826</td>\n",
              "      <td>0.978509</td>\n",
              "      <td>0.089869</td>\n",
              "      <td>0.9752</td>\n",
              "    </tr>\n",
              "    <tr>\n",
              "      <th>14</th>\n",
              "      <td>0.071430</td>\n",
              "      <td>0.980200</td>\n",
              "      <td>0.087234</td>\n",
              "      <td>0.9746</td>\n",
              "    </tr>\n",
              "    <tr>\n",
              "      <th>15</th>\n",
              "      <td>0.066719</td>\n",
              "      <td>0.981782</td>\n",
              "      <td>0.084241</td>\n",
              "      <td>0.9742</td>\n",
              "    </tr>\n",
              "    <tr>\n",
              "      <th>16</th>\n",
              "      <td>0.062288</td>\n",
              "      <td>0.982836</td>\n",
              "      <td>0.084109</td>\n",
              "      <td>0.9756</td>\n",
              "    </tr>\n",
              "    <tr>\n",
              "      <th>17</th>\n",
              "      <td>0.057857</td>\n",
              "      <td>0.984327</td>\n",
              "      <td>0.077824</td>\n",
              "      <td>0.9778</td>\n",
              "    </tr>\n",
              "    <tr>\n",
              "      <th>18</th>\n",
              "      <td>0.054297</td>\n",
              "      <td>0.985236</td>\n",
              "      <td>0.075074</td>\n",
              "      <td>0.9784</td>\n",
              "    </tr>\n",
              "    <tr>\n",
              "      <th>19</th>\n",
              "      <td>0.050858</td>\n",
              "      <td>0.986618</td>\n",
              "      <td>0.072679</td>\n",
              "      <td>0.9794</td>\n",
              "    </tr>\n",
              "    <tr>\n",
              "      <th>20</th>\n",
              "      <td>0.047504</td>\n",
              "      <td>0.987764</td>\n",
              "      <td>0.073871</td>\n",
              "      <td>0.9790</td>\n",
              "    </tr>\n",
              "    <tr>\n",
              "      <th>21</th>\n",
              "      <td>0.044762</td>\n",
              "      <td>0.988745</td>\n",
              "      <td>0.070753</td>\n",
              "      <td>0.9800</td>\n",
              "    </tr>\n",
              "    <tr>\n",
              "      <th>22</th>\n",
              "      <td>0.041886</td>\n",
              "      <td>0.989236</td>\n",
              "      <td>0.070230</td>\n",
              "      <td>0.9790</td>\n",
              "    </tr>\n",
              "    <tr>\n",
              "      <th>23</th>\n",
              "      <td>0.039645</td>\n",
              "      <td>0.989618</td>\n",
              "      <td>0.068605</td>\n",
              "      <td>0.9796</td>\n",
              "    </tr>\n",
              "    <tr>\n",
              "      <th>24</th>\n",
              "      <td>0.037295</td>\n",
              "      <td>0.990618</td>\n",
              "      <td>0.068372</td>\n",
              "      <td>0.9788</td>\n",
              "    </tr>\n",
              "    <tr>\n",
              "      <th>25</th>\n",
              "      <td>0.034750</td>\n",
              "      <td>0.991236</td>\n",
              "      <td>0.067524</td>\n",
              "      <td>0.9800</td>\n",
              "    </tr>\n",
              "    <tr>\n",
              "      <th>26</th>\n",
              "      <td>0.032868</td>\n",
              "      <td>0.991891</td>\n",
              "      <td>0.068744</td>\n",
              "      <td>0.9792</td>\n",
              "    </tr>\n",
              "    <tr>\n",
              "      <th>27</th>\n",
              "      <td>0.031223</td>\n",
              "      <td>0.992564</td>\n",
              "      <td>0.066927</td>\n",
              "      <td>0.9792</td>\n",
              "    </tr>\n",
              "    <tr>\n",
              "      <th>28</th>\n",
              "      <td>0.029258</td>\n",
              "      <td>0.993382</td>\n",
              "      <td>0.066207</td>\n",
              "      <td>0.9792</td>\n",
              "    </tr>\n",
              "    <tr>\n",
              "      <th>29</th>\n",
              "      <td>0.027575</td>\n",
              "      <td>0.994018</td>\n",
              "      <td>0.065237</td>\n",
              "      <td>0.9796</td>\n",
              "    </tr>\n",
              "  </tbody>\n",
              "</table>\n",
              "</div>"
            ],
            "text/plain": [
              "        loss  accuracy  val_loss  val_accuracy\n",
              "0   0.601801  0.845327  0.315016        0.9110\n",
              "1   0.294951  0.915600  0.246529        0.9322\n",
              "2   0.241576  0.930527  0.206039        0.9414\n",
              "3   0.206085  0.941400  0.179747        0.9498\n",
              "4   0.179434  0.948655  0.161614        0.9552\n",
              "5   0.159117  0.954582  0.144155        0.9612\n",
              "6   0.142144  0.959491  0.134280        0.9614\n",
              "7   0.127922  0.963782  0.126730        0.9664\n",
              "8   0.116468  0.967236  0.117970        0.9656\n",
              "9   0.106162  0.969873  0.110704        0.9694\n",
              "10  0.097404  0.972909  0.104374        0.9710\n",
              "11  0.089791  0.975255  0.098261        0.9722\n",
              "12  0.083218  0.977145  0.093013        0.9748\n",
              "13  0.076826  0.978509  0.089869        0.9752\n",
              "14  0.071430  0.980200  0.087234        0.9746\n",
              "15  0.066719  0.981782  0.084241        0.9742\n",
              "16  0.062288  0.982836  0.084109        0.9756\n",
              "17  0.057857  0.984327  0.077824        0.9778\n",
              "18  0.054297  0.985236  0.075074        0.9784\n",
              "19  0.050858  0.986618  0.072679        0.9794\n",
              "20  0.047504  0.987764  0.073871        0.9790\n",
              "21  0.044762  0.988745  0.070753        0.9800\n",
              "22  0.041886  0.989236  0.070230        0.9790\n",
              "23  0.039645  0.989618  0.068605        0.9796\n",
              "24  0.037295  0.990618  0.068372        0.9788\n",
              "25  0.034750  0.991236  0.067524        0.9800\n",
              "26  0.032868  0.991891  0.068744        0.9792\n",
              "27  0.031223  0.992564  0.066927        0.9792\n",
              "28  0.029258  0.993382  0.066207        0.9792\n",
              "29  0.027575  0.994018  0.065237        0.9796"
            ]
          },
          "metadata": {
            "tags": []
          },
          "execution_count": 48
        }
      ]
    },
    {
      "cell_type": "code",
      "metadata": {
        "colab": {
          "base_uri": "https://localhost:8080/",
          "height": 342
        },
        "id": "esDwDagURqNe",
        "outputId": "e8e7dd32-ee2d-4178-be95-fdca8aa25712"
      },
      "source": [
        "pd.DataFrame(history.history).plot(figsize=(8,5))\r\n",
        "plt.grid(True)\r\n",
        "plt.gca().set_ylim(0,1)"
      ],
      "execution_count": null,
      "outputs": [
        {
          "output_type": "execute_result",
          "data": {
            "text/plain": [
              "(0.0, 1.0)"
            ]
          },
          "metadata": {
            "tags": []
          },
          "execution_count": 51
        },
        {
          "output_type": "display_data",
          "data": {
            "image/png": "[encoded data removed]",
            "text/plain": [
              "<Figure size 576x360 with 1 Axes>"
            ]
          },
          "metadata": {
            "tags": [],
            "needs_background": "light"
          }
        }
      ]
    },
    {
      "cell_type": "code",
      "metadata": {
        "colab": {
          "base_uri": "https://localhost:8080/"
        },
        "id": "PEYSNOZOS8m-",
        "outputId": "60edbc85-1e5c-4be5-8be0-6d74259c5514"
      },
      "source": [
        "model_clf.evaluate(x_test,y_test)"
      ],
      "execution_count": null,
      "outputs": [
        {
          "output_type": "stream",
          "text": [
            "313/313 [==============================] - 1s 2ms/step - loss: 0.0703 - accuracy: 0.9782\n"
          ],
          "name": "stdout"
        },
        {
          "output_type": "execute_result",
          "data": {
            "text/plain": [
              "[0.070340096950531, 0.9782000184059143]"
            ]
          },
          "metadata": {
            "tags": []
          },
          "execution_count": 50
        }
      ]
    },
    {
      "cell_type": "code",
      "metadata": {
        "id": "DMvTNzIITC62"
      },
      "source": [
        ""
      ],
      "execution_count": null,
      "outputs": []
    },
    {
      "cell_type": "markdown",
      "metadata": {
        "id": "QBU2cnTqOHow"
      },
      "source": [
        "# New Section"
      ]
    }
  ]
}